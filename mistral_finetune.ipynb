{
  "cells": [
    {
      "cell_type": "markdown",
      "metadata": {
        "id": "view-in-github",
        "colab_type": "text"
      },
      "source": [
        "<a href=\"https://colab.research.google.com/github/Srivastava0109Yash/-PCS24-67/blob/main/mistral_finetune.ipynb\" target=\"_parent\"><img src=\"https://colab.research.google.com/assets/colab-badge.svg\" alt=\"Open In Colab\"/></a>"
      ]
    },
    {
      "cell_type": "code",
      "execution_count": 1,
      "metadata": {
        "id": "9zvs1DQUzKTN"
      },
      "outputs": [],
      "source": [
        "%%capture\n",
        "!git clone 'https://github.com/ali7919/Enlighten-Instruct.git'\n",
        "!pip install -U bitsandbytes\n",
        "!pip install transformers==4.36.2\n",
        "!pip install -U peft\n",
        "!pip install -U accelerate\n",
        "!pip install -U trl\n",
        "!pip install datasets==2.16.0\n",
        "!pip install sentencepiece"
      ]
    },
    {
      "cell_type": "code",
      "execution_count": 30,
      "metadata": {
        "id": "6uC0onRmzOiy"
      },
      "outputs": [],
      "source": [
        "from transformers import AutoModelForCausalLM, AutoTokenizer, BitsAndBytesConfig,HfArgumentParser,TrainingArguments,pipeline, logging\n",
        "from peft import LoraConfig, PeftModel, prepare_model_for_kbit_training, get_peft_model\n",
        "import os,torch\n",
        "from datasets import load_dataset\n",
        "from trl import SFTTrainer,PPOTrainer,DPOTrainer\n",
        "import pandas as pd\n",
        "import pyarrow as pa\n",
        "import pyarrow.dataset as ds\n",
        "import pandas as pd\n",
        "from datasets import Dataset\n",
        "import re,json"
      ]
    },
    {
      "cell_type": "code",
      "execution_count": 3,
      "metadata": {
        "id": "pQPEy8PqzP2Z"
      },
      "outputs": [],
      "source": [
        "model_id = \"mistralai/Mistral-7B-Instruct-v0.2\""
      ]
    },
    {
      "cell_type": "code",
      "execution_count": null,
      "metadata": {
        "colab": {
          "background_save": true
        },
        "id": "P8wQLN_EzS1M"
      },
      "outputs": [],
      "source": [
        "nf4_config = BitsAndBytesConfig(\n",
        "   load_in_4bit=True,\n",
        "   bnb_4bit_quant_type=\"nf4\",\n",
        "   bnb_4bit_use_double_quant=True,\n",
        "   bnb_4bit_compute_dtype=torch.bfloat16\n",
        ")"
      ]
    },
    {
      "cell_type": "code",
      "execution_count": null,
      "metadata": {
        "colab": {
          "base_uri": "https://localhost:8080/",
          "height": 400,
          "referenced_widgets": [
            "4b6ab605b862417dacf9b5e6804da6ee",
            "e1b220e80bb24f97892a7065b82a5a59",
            "1c14e483c6454b2e92bbff0f964b0c90",
            "9d887dbefecf42859cec26b1b8148c4c",
            "7491a2fc1d6d4f19b7340d8800365bd0",
            "dcb53702e66d464da603e046fa32024a",
            "e10c56d1bcc84f94ba1c523b55c21eca",
            "7ad930ae782a43c2ace609314db754ec",
            "e53a983d140746a0a15c5e2795eb07ec",
            "5eddcd44aa264447ad48382c34f63009",
            "e571007442074f6b8f44d852a41614d9",
            "746bd5b045fc444a8aa18fd80348d855",
            "b08e6f7e35dc494aa42bd9e48acc1fae",
            "6c96ea6c99a24c0ab5a65447942b01b0",
            "42b6282061684b038bfd1f070036f968",
            "8e4198832e2d4c8bb45925f9d5e22105",
            "2dd756b2dd884a4cb63a8b073f711b92",
            "08e0e9f4f2104b2da8620d08438024e1",
            "1e95303a79d248779bca4b632160b49b",
            "f1772ebfd6754384a9a5f03b7550a1cc",
            "3879d3ff1bb14c5b98948735df1a6a9f",
            "20c366b8ccde4d0aab43d32b31f327b4",
            "5a79cf7594a3404186e469b911d7eaa2",
            "fe7e7c6e66f0486f966be14aaa9d0fbe",
            "b9812cda346c499e9cf98fa6f06638f7",
            "ab8b49cd02f7475f81a4837e763e15a2",
            "58e0d19b22114cf3bbb875ab26089f83",
            "80f9acb41535441d82348afe8e9bf714",
            "c689aca2da564dc09b8679e412008d57",
            "3fe0dc467e3f4b29b1ee185823dc42b2",
            "6df1cc53b51f41d084b9e4f69250a108",
            "88a78ca956b2438faf2bc57b92d619c9",
            "960011fa422b45909d537d1a31dd14e1",
            "49710a8687584a639d4872c1252ecf0d",
            "12e3a99442124d168d3508ce7735fa77",
            "72921017549d438cb357147a03c37b3c",
            "eaa1eb6b05534fd6bda50dca4ca1b537",
            "6293cd7f361c48ceba0089baabbebcb9",
            "28ae5ca68c9b422d9874b9bd3c597392",
            "af095aec645a4c8aaf7e3bfbf88ef26a",
            "be343e5a2ea545d080902f7f0ac13af2",
            "bd97d93ab04347068eb59baac0a2929d",
            "1b244ca1399045cab5901fff78fe1252",
            "db36c7fbe49f4643bae18e68fd5ec405",
            "1ea90a8ce07d40d28ce4ca36911ab344",
            "9ff50952df504b73bfdf1b4bd76bc7fe",
            "9a3676eb53db4ae49ccd86673b3b4709",
            "e3466a26509d4ab6b9d6e49e13be674a",
            "9100067ba67348789630b1f56172711f",
            "6a8cd7e6271d412081f9a53b387b5944",
            "64c36a279402490bbe126e936765267d",
            "5d27c4e4f19a49668a92d3470495868a",
            "2f378694419b4fddb3a581808cd675db",
            "a5836425c19d43d3ba963ed8a9f8c3d5",
            "54a43fe4b7e74014955599e8b4cd42b4",
            "a0a33e61cb6e4c078435200af152c3d3",
            "e32076bbab85437fa03b4b06045879f0",
            "604c1b47e79d4f74888d491775fe9c77",
            "1464b42372604a489139ce5c113172f7",
            "a466624d8f6348e4bc483b28dbf98e63",
            "e224001379df40f3bd0b1f3b02c66af4",
            "ef808f5824634fcebee26b1de9541e8f",
            "f34070f934a94c03bba0bcc1b752f57a",
            "b0666daf809b4bd19bee85b5ed01d0af",
            "b5c6daba974e439cb4285887de50df21",
            "36214a5c82494e06b8c30ecc18c5ab54",
            "724ebe614f6a43e49dcb94d193c20491",
            "a676298d3d164c9d997b9b14775d213b",
            "ddb38b9da7fd4d4d9ae85fd740eae094",
            "26c066acea004a7593e7d2d4cd20b33d",
            "bb74419707b644c7a391adcf1eeb05b2",
            "aa9372c72cee4fd9bb551ff4add93b0e",
            "2800573ba3064cafb35f19493b6028b2",
            "e3d73a57dd4943c991c7554bbc8edbfc",
            "b36aeca21cd148e5be4f829013d85cd6",
            "063616e4de02451bace10342c70b19be",
            "432a5551972342c1b70a40adabd98b05",
            "23a59442cc874e54a31a7a6d4578791c",
            "53bb1c29ce25435aa157a3761749ee94",
            "5bc3becd93e04d24b28b95ee3ca84f56",
            "7fbbb41c85b042b5a82cc8da4df4c39d",
            "1ca980da8ba041a18a4a1ba8c8ecf298",
            "49332df9dc574027b218d07d53ae4f8f",
            "33bffe13b99b404f9a20a4d110d1d5a5",
            "e3dfcf8c8d1c4cccbe4d27db239b5a19",
            "96601ba0569049c6bed8508ba68bf139",
            "da9854be287848d69690c620b0ee191a",
            "26c825a71dfb403db33b77ce92526db6"
          ]
        },
        "id": "MfVP9ozLzUyX",
        "outputId": "2488a83d-9a7b-4821-a461-452253d34451"
      },
      "outputs": [
        {
          "name": "stderr",
          "output_type": "stream",
          "text": [
            "/usr/local/lib/python3.10/dist-packages/huggingface_hub/utils/_token.py:88: UserWarning: \n",
            "The secret `HF_TOKEN` does not exist in your Colab secrets.\n",
            "To authenticate with the Hugging Face Hub, create a token in your settings tab (https://huggingface.co/settings/tokens), set it as secret in your Google Colab and restart your session.\n",
            "You will be able to reuse this secret in all of your notebooks.\n",
            "Please note that authentication is recommended but still optional to access public models or datasets.\n",
            "  warnings.warn(\n"
          ]
        },
        {
          "data": {
            "application/vnd.jupyter.widget-view+json": {
              "model_id": "4b6ab605b862417dacf9b5e6804da6ee",
              "version_major": 2,
              "version_minor": 0
            },
            "text/plain": [
              "config.json:   0%|          | 0.00/596 [00:00<?, ?B/s]"
            ]
          },
          "metadata": {},
          "output_type": "display_data"
        },
        {
          "data": {
            "application/vnd.jupyter.widget-view+json": {
              "model_id": "746bd5b045fc444a8aa18fd80348d855",
              "version_major": 2,
              "version_minor": 0
            },
            "text/plain": [
              "model.safetensors.index.json:   0%|          | 0.00/25.1k [00:00<?, ?B/s]"
            ]
          },
          "metadata": {},
          "output_type": "display_data"
        },
        {
          "data": {
            "application/vnd.jupyter.widget-view+json": {
              "model_id": "5a79cf7594a3404186e469b911d7eaa2",
              "version_major": 2,
              "version_minor": 0
            },
            "text/plain": [
              "Downloading shards:   0%|          | 0/3 [00:00<?, ?it/s]"
            ]
          },
          "metadata": {},
          "output_type": "display_data"
        },
        {
          "data": {
            "application/vnd.jupyter.widget-view+json": {
              "model_id": "49710a8687584a639d4872c1252ecf0d",
              "version_major": 2,
              "version_minor": 0
            },
            "text/plain": [
              "model-00001-of-00003.safetensors:   0%|          | 0.00/4.94G [00:00<?, ?B/s]"
            ]
          },
          "metadata": {},
          "output_type": "display_data"
        },
        {
          "data": {
            "application/vnd.jupyter.widget-view+json": {
              "model_id": "1ea90a8ce07d40d28ce4ca36911ab344",
              "version_major": 2,
              "version_minor": 0
            },
            "text/plain": [
              "model-00002-of-00003.safetensors:   0%|          | 0.00/5.00G [00:00<?, ?B/s]"
            ]
          },
          "metadata": {},
          "output_type": "display_data"
        },
        {
          "data": {
            "application/vnd.jupyter.widget-view+json": {
              "model_id": "a0a33e61cb6e4c078435200af152c3d3",
              "version_major": 2,
              "version_minor": 0
            },
            "text/plain": [
              "model-00003-of-00003.safetensors:   0%|          | 0.00/4.54G [00:00<?, ?B/s]"
            ]
          },
          "metadata": {},
          "output_type": "display_data"
        },
        {
          "data": {
            "application/vnd.jupyter.widget-view+json": {
              "model_id": "724ebe614f6a43e49dcb94d193c20491",
              "version_major": 2,
              "version_minor": 0
            },
            "text/plain": [
              "Loading checkpoint shards:   0%|          | 0/3 [00:00<?, ?it/s]"
            ]
          },
          "metadata": {},
          "output_type": "display_data"
        },
        {
          "data": {
            "application/vnd.jupyter.widget-view+json": {
              "model_id": "23a59442cc874e54a31a7a6d4578791c",
              "version_major": 2,
              "version_minor": 0
            },
            "text/plain": [
              "generation_config.json:   0%|          | 0.00/111 [00:00<?, ?B/s]"
            ]
          },
          "metadata": {},
          "output_type": "display_data"
        }
      ],
      "source": [
        "model = AutoModelForCausalLM.from_pretrained(\n",
        "    model_id,\n",
        "    device_map='auto',\n",
        "    quantization_config=nf4_config,\n",
        "    use_cache=False\n",
        ")"
      ]
    },
    {
      "cell_type": "code",
      "execution_count": null,
      "metadata": {
        "colab": {
          "background_save": true
        },
        "id": "Wgp2YI7uzWQ6"
      },
      "outputs": [],
      "source": [
        "tokenizer = AutoTokenizer.from_pretrained(model_id)\n",
        "\n",
        "tokenizer.pad_token = tokenizer.eos_token\n",
        "tokenizer.padding_side = \"right\""
      ]
    },
    {
      "cell_type": "code",
      "execution_count": null,
      "metadata": {
        "colab": {
          "background_save": true
        },
        "id": "n4uPj9BSzX_Q"
      },
      "outputs": [],
      "source": [
        "def generate_response(prompt, model):\n",
        "  encoded_input = tokenizer(prompt,  return_tensors=\"pt\", add_special_tokens=True)\n",
        "  model_inputs = encoded_input.to('cuda')\n",
        "\n",
        "  generated_ids = model.generate(**model_inputs,\n",
        "                                 max_new_tokens=512,\n",
        "                                 do_sample=True,\n",
        "                                 pad_token_id=tokenizer.eos_token_id)\n",
        "\n",
        "  decoded_output = tokenizer.batch_decode(generated_ids)\n",
        "\n",
        "  return decoded_output[0].replace(prompt, \"\")"
      ]
    },
    {
      "cell_type": "code",
      "source": [],
      "metadata": {
        "id": "Q4veHtCckG_9"
      },
      "execution_count": null,
      "outputs": []
    },
    {
      "cell_type": "code",
      "source": [
        "mydata=load_dataset(path='/content/',data_files='dataset.jsonl')\n",
        "a=mydata[\"train\"]\n",
        "a"
      ],
      "metadata": {
        "colab": {
          "base_uri": "https://localhost:8080/"
        },
        "id": "XPaTat6hbloO",
        "outputId": "aa3d9c70-7889-45b3-e00c-918b9598808e"
      },
      "execution_count": 52,
      "outputs": [
        {
          "output_type": "execute_result",
          "data": {
            "text/plain": [
              "Dataset({\n",
              "    features: ['messages'],\n",
              "    num_rows: 11\n",
              "})"
            ]
          },
          "metadata": {},
          "execution_count": 52
        }
      ]
    },
    {
      "cell_type": "code",
      "source": [
        "for i in a:\n",
        "  print(i)"
      ],
      "metadata": {
        "colab": {
          "base_uri": "https://localhost:8080/"
        },
        "id": "Eit9S_0jwSwd",
        "outputId": "ce2a02b2-0c3b-4cc8-9d09-4d2dbcbf0132"
      },
      "execution_count": 48,
      "outputs": [
        {
          "output_type": "stream",
          "name": "stdout",
          "text": [
            "{'messages': [{'role': 'system', 'content': '[{\"byFunc\": \"onchaintart\", \"input\": \"tell me the current account payable for advanced micro Devices for 2022\", \"operatorDescriptiveFeedback\": \"\", \"operatorFeedback\": \"-1\", \"name\": \"AgentExecutor\", \"type\": \"custom_agent\"}]'}, {'role': 'user', 'content': '[]'}, {'role': 'assistant', 'content': '[]'}]}\n",
            "{'messages': [{'role': 'system', 'content': '[]'}, {'role': 'user', 'content': '[{\"input\": \"tell me the current account payable for advanced micro Devices for 2022\", \"output\": null, \"operatorDescriptiveFeedback\": \"\", \"operatorFeedback\": \"-1\", \"name\": \"LLMChain\", \"type\": \"custom_chain\"}]'}, {'role': 'assistant', 'content': '[]'}]}\n",
            "{'messages': [{'role': 'system', 'content': '[{\"byFunc\": \"onllmstart\", \"input\": \"[\\\\\"Answer the following questions as best you can. You have access to the following tools:\\\\\\\\n\\\\\\\\nSearch Engine RAG: use this as the first tool to answer query, dont use any other tool .This tool extracts data from database. If you dont get answer through this just reply \\\\\\\\\\\\\"Data Not Available.Action input: tell me the current account payable for advanced micro Devices for 2022.\\\\\\\\nDocumentQA: Use this tool when attachment Flag is True. This will work as answering machine for questions on uploaded document\\\\\\\\nLanguage Model: use this tool for general purpose queries, logic and general conversations like Hi hello etc\\\\\\\\nCalculator: useful for when you need to answer questions about math\\\\\\\\nInvoice parser: Use this as the first tool to retrieve details of invoice after recieveing data from the database. . I take input as the output generated by query engine.\\\\\\\\nSearch Engine RAG: use this as the first tool to answer query, dont use any other tool .This tool extracts data from database. If you dont get answer through this just reply \\\\\\\\\\\\\"Data Not Available.Action input: tell me the current account payable for advanced micro Devices for 2022.\\\\\\\\nDocumentQA: Use this tool when attachment Flag is True. This will work as answering machine for questions on uploaded document\\\\\\\\nintegral: useful for when you need to find integral of a string. It needs input as the string\\\\\\\\nBasic_Share_Outstanding: Returns the basic share outstanding from query engineRemember: Give input as a python list of integers, and remember to give appropriate units like dollar, shares whenever required.\\\\\\\\nCalculator: useful for when you need to answer questions about math\\\\\\\\nloss_from_operation: Returns loss from operation from query engineRemember: Give input as a python list of integers, and remember to give appropriate units like dollar, shares whenever required.\\\\\\\\ndepriciation and amoritization: Returns depriciation and amoritization from query engine\\\\\\\\nResearch and Development: Returns Research and Development from query engine\", \"operatorDescriptiveFeedback\": \"\", \"operatorFeedback\": \"-1\", \"name\": \"gpt-3.5-turbo-instruct\", \"type\": \"llm\"}, {\"byFunc\": \"onllmend\", \"output\": [null], \"operatorDescriptiveFeedback\": \"\", \"operatorFeedback\": \"-1\", \"type\": \"llm\"}]'}, {'role': 'user', 'content': '[]'}, {'role': 'assistant', 'content': '[]'}]}\n",
            "{'messages': [{'role': 'system', 'content': '[]'}, {'role': 'user', 'content': '[]'}, {'role': 'assistant', 'content': '[{\"input\": null, \"output\": \" I should use the Search Engine RAG tool to extract data from the database.\\\\nAction: Search Engine RAG\\\\nAction Input: \\\\\"current account payable for advanced micro Devices for 2022\\\\\"\", \"operatorDescriptiveFeedback\": \"\", \"operatorFeedback\": \"-1\", \"name\": null, \"type\": \"custom_chain\"}]'}]}\n",
            "{'messages': [{'role': 'system', 'content': '[{\"byFunc\": \"onAgentAction\", \"input\": \"current account payable for advanced micro Devices for 2022\", \"operatorDescriptiveFeedback\": \"\", \"operatorFeedback\": \"-1\", \"name\": \"Search Engine RAG\", \"type\": \"custom_tool\"}]'}, {'role': 'user', 'content': '[]'}, {'role': 'assistant', 'content': '[]'}]}\n",
            "{'messages': [{'role': 'system', 'content': '[{\"byFunc\": \"onToolstart\", \"input\": \"current account payable for advanced micro Devices for 2022\", \"operatorDescriptiveFeedback\": \"\", \"operatorFeedback\": \"-1\", \"name\": \"Search Engine RAG\", \"type\": \"tool\"}]'}, {'role': 'user', 'content': '[]'}, {'role': 'assistant', 'content': '[]'}]}\n",
            "{'messages': [{'role': 'system', 'content': '[]'}, {'role': 'user', 'content': '[{\"input\": \"current account payable for advanced micro Devices for 2022\", \"output\": null, \"operatorDescriptiveFeedback\": \"\", \"operatorFeedback\": \"-1\", \"name\": \"SQLDatabaseChain\", \"type\": \"custom_chain\"}]'}, {'role': 'assistant', 'content': '[]'}]}\n",
            "{'messages': [{'role': 'system', 'content': '[]'}, {'role': 'user', 'content': '[]'}, {'role': 'assistant', 'content': '[{\"input\": null, \"output\": \"The current account payable for Advanced Micro Devices for 2022 is $2,493,000,000.\", \"operatorDescriptiveFeedback\": \"\", \"operatorFeedback\": \"-1\", \"name\": null, \"type\": \"custom_chain\"}]'}]}\n",
            "{'messages': [{'role': 'system', 'content': '[{\"byFunc\": \"ontoolEnd\", \"output\": \"The current account payable for Advanced Micro Devices for 2022 is $2,493,000,000.\", \"operatorDescriptiveFeedback\": \"\", \"operatorFeedback\": \"-1\", \"type\": \"tool\"}]'}, {'role': 'user', 'content': '[]'}, {'role': 'assistant', 'content': '[]'}]}\n",
            "{'messages': [{'role': 'system', 'content': '[{\"byFunc\": \"on_agentfinish\", \"output\": \"The current account payable for Advanced Micro Devices for 2022 is $2,493,000,000.\", \"operatorDescriptiveFeedback\": \"\", \"operatorFeedback\": \"-1\", \"type\": \"custom_agent\"}]'}, {'role': 'user', 'content': '[]'}, {'role': 'assistant', 'content': '[]'}]}\n",
            "{'messages': [{'role': 'system', 'content': '[]'}, {'role': 'user', 'content': '[]'}, {'role': 'assistant', 'content': '[{\"input\": null, \"output\": \"The current account payable for Advanced Micro Devices for 2022 is $2,493,000,000.\", \"operatorDescriptiveFeedback\": \"\", \"operatorFeedback\": \"-1\", \"name\": null, \"type\": \"custom_chain\"}]'}]}\n"
          ]
        }
      ]
    },
    {
      "cell_type": "code",
      "source": [
        "for i in range(len(a)):\n",
        "  for j in range(3):\n",
        "    print(mydata[\"train\"]['messages'][i][j])\n",
        "\n",
        "\n"
      ],
      "metadata": {
        "colab": {
          "base_uri": "https://localhost:8080/"
        },
        "id": "zmWiV9JdnRMP",
        "outputId": "935a4495-c68c-4b49-f5bd-89277dfe4d6b"
      },
      "execution_count": 45,
      "outputs": [
        {
          "output_type": "stream",
          "name": "stdout",
          "text": [
            "{'role': 'system', 'content': '[{\"byFunc\": \"onchaintart\", \"input\": \"tell me the current account payable for advanced micro Devices for 2022\", \"operatorDescriptiveFeedback\": \"\", \"operatorFeedback\": \"-1\", \"name\": \"AgentExecutor\", \"type\": \"custom_agent\"}]'}\n",
            "{'role': 'user', 'content': '[]'}\n",
            "{'role': 'assistant', 'content': '[]'}\n",
            "{'role': 'system', 'content': '[]'}\n",
            "{'role': 'user', 'content': '[{\"input\": \"tell me the current account payable for advanced micro Devices for 2022\", \"output\": null, \"operatorDescriptiveFeedback\": \"\", \"operatorFeedback\": \"-1\", \"name\": \"LLMChain\", \"type\": \"custom_chain\"}]'}\n",
            "{'role': 'assistant', 'content': '[]'}\n",
            "{'role': 'system', 'content': '[{\"byFunc\": \"onllmstart\", \"input\": \"[\\\\\"Answer the following questions as best you can. You have access to the following tools:\\\\\\\\n\\\\\\\\nSearch Engine RAG: use this as the first tool to answer query, dont use any other tool .This tool extracts data from database. If you dont get answer through this just reply \\\\\\\\\\\\\"Data Not Available.Action input: tell me the current account payable for advanced micro Devices for 2022.\\\\\\\\nDocumentQA: Use this tool when attachment Flag is True. This will work as answering machine for questions on uploaded document\\\\\\\\nLanguage Model: use this tool for general purpose queries, logic and general conversations like Hi hello etc\\\\\\\\nCalculator: useful for when you need to answer questions about math\\\\\\\\nInvoice parser: Use this as the first tool to retrieve details of invoice after recieveing data from the database. . I take input as the output generated by query engine.\\\\\\\\nSearch Engine RAG: use this as the first tool to answer query, dont use any other tool .This tool extracts data from database. If you dont get answer through this just reply \\\\\\\\\\\\\"Data Not Available.Action input: tell me the current account payable for advanced micro Devices for 2022.\\\\\\\\nDocumentQA: Use this tool when attachment Flag is True. This will work as answering machine for questions on uploaded document\\\\\\\\nintegral: useful for when you need to find integral of a string. It needs input as the string\\\\\\\\nBasic_Share_Outstanding: Returns the basic share outstanding from query engineRemember: Give input as a python list of integers, and remember to give appropriate units like dollar, shares whenever required.\\\\\\\\nCalculator: useful for when you need to answer questions about math\\\\\\\\nloss_from_operation: Returns loss from operation from query engineRemember: Give input as a python list of integers, and remember to give appropriate units like dollar, shares whenever required.\\\\\\\\ndepriciation and amoritization: Returns depriciation and amoritization from query engine\\\\\\\\nResearch and Development: Returns Research and Development from query engine\", \"operatorDescriptiveFeedback\": \"\", \"operatorFeedback\": \"-1\", \"name\": \"gpt-3.5-turbo-instruct\", \"type\": \"llm\"}, {\"byFunc\": \"onllmend\", \"output\": [null], \"operatorDescriptiveFeedback\": \"\", \"operatorFeedback\": \"-1\", \"type\": \"llm\"}]'}\n",
            "{'role': 'user', 'content': '[]'}\n",
            "{'role': 'assistant', 'content': '[]'}\n",
            "{'role': 'system', 'content': '[]'}\n",
            "{'role': 'user', 'content': '[]'}\n",
            "{'role': 'assistant', 'content': '[{\"input\": null, \"output\": \" I should use the Search Engine RAG tool to extract data from the database.\\\\nAction: Search Engine RAG\\\\nAction Input: \\\\\"current account payable for advanced micro Devices for 2022\\\\\"\", \"operatorDescriptiveFeedback\": \"\", \"operatorFeedback\": \"-1\", \"name\": null, \"type\": \"custom_chain\"}]'}\n",
            "{'role': 'system', 'content': '[{\"byFunc\": \"onAgentAction\", \"input\": \"current account payable for advanced micro Devices for 2022\", \"operatorDescriptiveFeedback\": \"\", \"operatorFeedback\": \"-1\", \"name\": \"Search Engine RAG\", \"type\": \"custom_tool\"}]'}\n",
            "{'role': 'user', 'content': '[]'}\n",
            "{'role': 'assistant', 'content': '[]'}\n",
            "{'role': 'system', 'content': '[{\"byFunc\": \"onToolstart\", \"input\": \"current account payable for advanced micro Devices for 2022\", \"operatorDescriptiveFeedback\": \"\", \"operatorFeedback\": \"-1\", \"name\": \"Search Engine RAG\", \"type\": \"tool\"}]'}\n",
            "{'role': 'user', 'content': '[]'}\n",
            "{'role': 'assistant', 'content': '[]'}\n",
            "{'role': 'system', 'content': '[]'}\n",
            "{'role': 'user', 'content': '[{\"input\": \"current account payable for advanced micro Devices for 2022\", \"output\": null, \"operatorDescriptiveFeedback\": \"\", \"operatorFeedback\": \"-1\", \"name\": \"SQLDatabaseChain\", \"type\": \"custom_chain\"}]'}\n",
            "{'role': 'assistant', 'content': '[]'}\n",
            "{'role': 'system', 'content': '[]'}\n",
            "{'role': 'user', 'content': '[]'}\n",
            "{'role': 'assistant', 'content': '[{\"input\": null, \"output\": \"The current account payable for Advanced Micro Devices for 2022 is $2,493,000,000.\", \"operatorDescriptiveFeedback\": \"\", \"operatorFeedback\": \"-1\", \"name\": null, \"type\": \"custom_chain\"}]'}\n",
            "{'role': 'system', 'content': '[{\"byFunc\": \"ontoolEnd\", \"output\": \"The current account payable for Advanced Micro Devices for 2022 is $2,493,000,000.\", \"operatorDescriptiveFeedback\": \"\", \"operatorFeedback\": \"-1\", \"type\": \"tool\"}]'}\n",
            "{'role': 'user', 'content': '[]'}\n",
            "{'role': 'assistant', 'content': '[]'}\n",
            "{'role': 'system', 'content': '[{\"byFunc\": \"on_agentfinish\", \"output\": \"The current account payable for Advanced Micro Devices for 2022 is $2,493,000,000.\", \"operatorDescriptiveFeedback\": \"\", \"operatorFeedback\": \"-1\", \"type\": \"custom_agent\"}]'}\n",
            "{'role': 'user', 'content': '[]'}\n",
            "{'role': 'assistant', 'content': '[]'}\n",
            "{'role': 'system', 'content': '[]'}\n",
            "{'role': 'user', 'content': '[]'}\n",
            "{'role': 'assistant', 'content': '[{\"input\": null, \"output\": \"The current account payable for Advanced Micro Devices for 2022 is $2,493,000,000.\", \"operatorDescriptiveFeedback\": \"\", \"operatorFeedback\": \"-1\", \"name\": null, \"type\": \"custom_chain\"}]'}\n"
          ]
        }
      ]
    },
    {
      "cell_type": "code",
      "source": [
        "main_dict = {}\n",
        "\n",
        "for item in a:\n",
        "    role = item['role']\n",
        "    content = json.loads(item['content'])\n",
        "    main_dict[role] = content\n",
        "\n",
        "print(main_dict)\n"
      ],
      "metadata": {
        "colab": {
          "base_uri": "https://localhost:8080/"
        },
        "id": "8I0De2vGkH54",
        "outputId": "a773b832-6b12-42c5-c243-759c46fd770c"
      },
      "execution_count": 31,
      "outputs": [
        {
          "output_type": "stream",
          "name": "stdout",
          "text": [
            "{'system': [{'byFunc': 'onchaintart', 'input': 'tell me the current account payable for advanced micro Devices for 2022', 'operatorDescriptiveFeedback': '', 'operatorFeedback': '-1', 'name': 'AgentExecutor', 'type': 'custom_agent'}], 'user': [], 'assistant': []}\n"
          ]
        }
      ]
    },
    {
      "cell_type": "code",
      "source": [
        "type(a)"
      ],
      "metadata": {
        "colab": {
          "base_uri": "https://localhost:8080/"
        },
        "id": "oMhrLfczgiWT",
        "outputId": "d087e45e-1403-4cc3-a770-24c5aa6e2f17"
      },
      "execution_count": 24,
      "outputs": [
        {
          "output_type": "execute_result",
          "data": {
            "text/plain": [
              "list"
            ]
          },
          "metadata": {},
          "execution_count": 24
        }
      ]
    },
    {
      "cell_type": "code",
      "source": [
        "len(a)"
      ],
      "metadata": {
        "colab": {
          "base_uri": "https://localhost:8080/"
        },
        "id": "tSsdRjgNewWM",
        "outputId": "64ba9aa7-37f4-4fe3-c0cf-219bf5ed5507"
      },
      "execution_count": 133,
      "outputs": [
        {
          "output_type": "execute_result",
          "data": {
            "text/plain": [
              "2"
            ]
          },
          "metadata": {},
          "execution_count": 133
        }
      ]
    },
    {
      "cell_type": "code",
      "source": [
        "a"
      ],
      "metadata": {
        "colab": {
          "base_uri": "https://localhost:8080/"
        },
        "id": "L-gCsx0aeUDT",
        "outputId": "149da3d8-55bb-40b6-8bee-e5141efbef1a"
      },
      "execution_count": 132,
      "outputs": [
        {
          "output_type": "execute_result",
          "data": {
            "text/plain": [
              "{'role': 'assistant', 'content': '[]'}"
            ]
          },
          "metadata": {},
          "execution_count": 132
        }
      ]
    },
    {
      "cell_type": "code",
      "source": [
        "type(mydata)"
      ],
      "metadata": {
        "colab": {
          "base_uri": "https://localhost:8080/"
        },
        "id": "VQqAAnogd31E",
        "outputId": "c6d91dff-ee81-4fb3-8c87-d7193f17468b"
      },
      "execution_count": 114,
      "outputs": [
        {
          "output_type": "execute_result",
          "data": {
            "text/plain": [
              "datasets.dataset_dict.DatasetDict"
            ]
          },
          "metadata": {},
          "execution_count": 114
        }
      ]
    },
    {
      "cell_type": "code",
      "source": [
        "type(a)"
      ],
      "metadata": {
        "colab": {
          "base_uri": "https://localhost:8080/"
        },
        "id": "Z8WhuOx1d4Xd",
        "outputId": "9e5062ee-ead5-41bd-b43d-347e63d7960e"
      },
      "execution_count": 126,
      "outputs": [
        {
          "output_type": "execute_result",
          "data": {
            "text/plain": [
              "dict"
            ]
          },
          "metadata": {},
          "execution_count": 126
        }
      ]
    },
    {
      "cell_type": "code",
      "source": [],
      "metadata": {
        "id": "q6z4pnvTd4gQ"
      },
      "execution_count": null,
      "outputs": []
    },
    {
      "cell_type": "code",
      "execution_count": 55,
      "metadata": {
        "id": "AJzUwavEzaAC"
      },
      "outputs": [],
      "source": [
        "# import json\n",
        "# def create_collective_prompt(data):\n",
        "#     prompts = []\n",
        "\n",
        "#     def create_prompt(sample):\n",
        "#         bos_token = \"<s>\"\n",
        "#         system_message = \"Use the provided input to create an instruction that could have been used to generate the response with an LLM.\"\n",
        "#         response = sample[0]\n",
        "#         input_text = sample[\"input\"]\n",
        "#         eos_token = \"</s>\"\n",
        "\n",
        "#         full_prompt = \"\"\n",
        "#         full_prompt += bos_token\n",
        "#         full_prompt += \"### Instruction:\"\n",
        "#         full_prompt += \"\\n\" + system_message\n",
        "#         full_prompt += \"\\n\\n### Input:\"\n",
        "#         full_prompt += \"\\n\" + input_text\n",
        "#         full_prompt += \"\\n\\n### Response:\"\n",
        "#         full_prompt += \"\\n\" + response\n",
        "#         full_prompt += eos_token\n",
        "\n",
        "#         return full_prompt\n",
        "\n",
        "#     # Iterate through the data and apply the create_prompt function\n",
        "#     for sample in data:\n",
        "#         messages = sample.get(\"messages\", [])\n",
        "#         input_message = next((msg[\"content\"] for msg in messages if msg[\"role\"] == \"user\"), None)\n",
        "#         response_message = next((msg[\"content\"] for msg in messages if msg[\"role\"] == \"assistant\"), None)\n",
        "\n",
        "#         if input_message and response_message:\n",
        "#             sample[\"input\"] = json.loads(input_message)[0].get(\"input\", \"\")\n",
        "#             sample[0] = json.loads(response_message)[0].get(\"output\", \"\")\n",
        "\n",
        "#             prompt = create_prompt(sample)\n",
        "#             prompts.append(prompt)\n",
        "\n",
        "#     return '\\n'.join(prompts)\n",
        "\n",
        "\n",
        "def create_prompt(sample):\n",
        "  bos_token = \"<s>\"\n",
        "  original_system_message = \"Below is an instruction that describes a task. Write a response that appropriately completes the request.\"\n",
        "  system_message = \"[INST]Use the provided input to create an instruction that could have been used to generate the response with an LLM.\"\n",
        "  response = str(sample[\"messages\"])\n",
        "  eos_token = \"</s>\"\n",
        "\n",
        "  full_prompt = \"\"\n",
        "  full_prompt += bos_token\n",
        "  full_prompt += system_message\n",
        "  full_prompt += \"[/INST]\"\n",
        "  full_prompt += response\n",
        "  full_prompt += eos_token\n",
        "\n",
        "  return full_prompt"
      ]
    },
    {
      "cell_type": "code",
      "source": [
        "create_prompt(a)"
      ],
      "metadata": {
        "colab": {
          "base_uri": "https://localhost:8080/",
          "height": 626
        },
        "id": "otBm_0mixNYY",
        "outputId": "9d402934-80d0-4c6c-98ea-74684105f1bc"
      },
      "execution_count": 56,
      "outputs": [
        {
          "output_type": "execute_result",
          "data": {
            "text/plain": [
              "'<s>[INST]Use the provided input to create an instruction that could have been used to generate the response with an LLM.[/INST][[{\\'role\\': \\'system\\', \\'content\\': \\'[{\"byFunc\": \"onchaintart\", \"input\": \"tell me the current account payable for advanced micro Devices for 2022\", \"operatorDescriptiveFeedback\": \"\", \"operatorFeedback\": \"-1\", \"name\": \"AgentExecutor\", \"type\": \"custom_agent\"}]\\'}, {\\'role\\': \\'user\\', \\'content\\': \\'[]\\'}, {\\'role\\': \\'assistant\\', \\'content\\': \\'[]\\'}], [{\\'role\\': \\'system\\', \\'content\\': \\'[]\\'}, {\\'role\\': \\'user\\', \\'content\\': \\'[{\"input\": \"tell me the current account payable for advanced micro Devices for 2022\", \"output\": null, \"operatorDescriptiveFeedback\": \"\", \"operatorFeedback\": \"-1\", \"name\": \"LLMChain\", \"type\": \"custom_chain\"}]\\'}, {\\'role\\': \\'assistant\\', \\'content\\': \\'[]\\'}], [{\\'role\\': \\'system\\', \\'content\\': \\'[{\"byFunc\": \"onllmstart\", \"input\": \"[\\\\\\\\\"Answer the following questions as best you can. You have access to the following tools:\\\\\\\\\\\\\\\\n\\\\\\\\\\\\\\\\nSearch Engine RAG: use this as the first tool to answer query, dont use any other tool .This tool extracts data from database. If you dont get answer through this just reply \\\\\\\\\\\\\\\\\\\\\\\\\"Data Not Available.Action input: tell me the current account payable for advanced micro Devices for 2022.\\\\\\\\\\\\\\\\nDocumentQA: Use this tool when attachment Flag is True. This will work as answering machine for questions on uploaded document\\\\\\\\\\\\\\\\nLanguage Model: use this tool for general purpose queries, logic and general conversations like Hi hello etc\\\\\\\\\\\\\\\\nCalculator: useful for when you need to answer questions about math\\\\\\\\\\\\\\\\nInvoice parser: Use this as the first tool to retrieve details of invoice after recieveing data from the database. . I take input as the output generated by query engine.\\\\\\\\\\\\\\\\nSearch Engine RAG: use this as the first tool to answer query, dont use any other tool .This tool extracts data from database. If you dont get answer through this just reply \\\\\\\\\\\\\\\\\\\\\\\\\"Data Not Available.Action input: tell me the current account payable for advanced micro Devices for 2022.\\\\\\\\\\\\\\\\nDocumentQA: Use this tool when attachment Flag is True. This will work as answering machine for questions on uploaded document\\\\\\\\\\\\\\\\nintegral: useful for when you need to find integral of a string. It needs input as the string\\\\\\\\\\\\\\\\nBasic_Share_Outstanding: Returns the basic share outstanding from query engineRemember: Give input as a python list of integers, and remember to give appropriate units like dollar, shares whenever required.\\\\\\\\\\\\\\\\nCalculator: useful for when you need to answer questions about math\\\\\\\\\\\\\\\\nloss_from_operation: Returns loss from operation from query engineRemember: Give input as a python list of integers, and remember to give appropriate units like dollar, shares whenever required.\\\\\\\\\\\\\\\\ndepriciation and amoritization: Returns depriciation and amoritization from query engine\\\\\\\\\\\\\\\\nResearch and Development: Returns Research and Development from query engine\", \"operatorDescriptiveFeedback\": \"\", \"operatorFeedback\": \"-1\", \"name\": \"gpt-3.5-turbo-instruct\", \"type\": \"llm\"}, {\"byFunc\": \"onllmend\", \"output\": [null], \"operatorDescriptiveFeedback\": \"\", \"operatorFeedback\": \"-1\", \"type\": \"llm\"}]\\'}, {\\'role\\': \\'user\\', \\'content\\': \\'[]\\'}, {\\'role\\': \\'assistant\\', \\'content\\': \\'[]\\'}], [{\\'role\\': \\'system\\', \\'content\\': \\'[]\\'}, {\\'role\\': \\'user\\', \\'content\\': \\'[]\\'}, {\\'role\\': \\'assistant\\', \\'content\\': \\'[{\"input\": null, \"output\": \" I should use the Search Engine RAG tool to extract data from the database.\\\\\\\\nAction: Search Engine RAG\\\\\\\\nAction Input: \\\\\\\\\"current account payable for advanced micro Devices for 2022\\\\\\\\\"\", \"operatorDescriptiveFeedback\": \"\", \"operatorFeedback\": \"-1\", \"name\": null, \"type\": \"custom_chain\"}]\\'}], [{\\'role\\': \\'system\\', \\'content\\': \\'[{\"byFunc\": \"onAgentAction\", \"input\": \"current account payable for advanced micro Devices for 2022\", \"operatorDescriptiveFeedback\": \"\", \"operatorFeedback\": \"-1\", \"name\": \"Search Engine RAG\", \"type\": \"custom_tool\"}]\\'}, {\\'role\\': \\'user\\', \\'content\\': \\'[]\\'}, {\\'role\\': \\'assistant\\', \\'content\\': \\'[]\\'}], [{\\'role\\': \\'system\\', \\'content\\': \\'[{\"byFunc\": \"onToolstart\", \"input\": \"current account payable for advanced micro Devices for 2022\", \"operatorDescriptiveFeedback\": \"\", \"operatorFeedback\": \"-1\", \"name\": \"Search Engine RAG\", \"type\": \"tool\"}]\\'}, {\\'role\\': \\'user\\', \\'content\\': \\'[]\\'}, {\\'role\\': \\'assistant\\', \\'content\\': \\'[]\\'}], [{\\'role\\': \\'system\\', \\'content\\': \\'[]\\'}, {\\'role\\': \\'user\\', \\'content\\': \\'[{\"input\": \"current account payable for advanced micro Devices for 2022\", \"output\": null, \"operatorDescriptiveFeedback\": \"\", \"operatorFeedback\": \"-1\", \"name\": \"SQLDatabaseChain\", \"type\": \"custom_chain\"}]\\'}, {\\'role\\': \\'assistant\\', \\'content\\': \\'[]\\'}], [{\\'role\\': \\'system\\', \\'content\\': \\'[]\\'}, {\\'role\\': \\'user\\', \\'content\\': \\'[]\\'}, {\\'role\\': \\'assistant\\', \\'content\\': \\'[{\"input\": null, \"output\": \"The current account payable for Advanced Micro Devices for 2022 is $2,493,000,000.\", \"operatorDescriptiveFeedback\": \"\", \"operatorFeedback\": \"-1\", \"name\": null, \"type\": \"custom_chain\"}]\\'}], [{\\'role\\': \\'system\\', \\'content\\': \\'[{\"byFunc\": \"ontoolEnd\", \"output\": \"The current account payable for Advanced Micro Devices for 2022 is $2,493,000,000.\", \"operatorDescriptiveFeedback\": \"\", \"operatorFeedback\": \"-1\", \"type\": \"tool\"}]\\'}, {\\'role\\': \\'user\\', \\'content\\': \\'[]\\'}, {\\'role\\': \\'assistant\\', \\'content\\': \\'[]\\'}], [{\\'role\\': \\'system\\', \\'content\\': \\'[{\"byFunc\": \"on_agentfinish\", \"output\": \"The current account payable for Advanced Micro Devices for 2022 is $2,493,000,000.\", \"operatorDescriptiveFeedback\": \"\", \"operatorFeedback\": \"-1\", \"type\": \"custom_agent\"}]\\'}, {\\'role\\': \\'user\\', \\'content\\': \\'[]\\'}, {\\'role\\': \\'assistant\\', \\'content\\': \\'[]\\'}], [{\\'role\\': \\'system\\', \\'content\\': \\'[]\\'}, {\\'role\\': \\'user\\', \\'content\\': \\'[]\\'}, {\\'role\\': \\'assistant\\', \\'content\\': \\'[{\"input\": null, \"output\": \"The current account payable for Advanced Micro Devices for 2022 is $2,493,000,000.\", \"operatorDescriptiveFeedback\": \"\", \"operatorFeedback\": \"-1\", \"name\": null, \"type\": \"custom_chain\"}]\\'}]]</s>'"
            ],
            "application/vnd.google.colaboratory.intrinsic+json": {
              "type": "string"
            }
          },
          "metadata": {},
          "execution_count": 56
        }
      ]
    },
    {
      "cell_type": "code",
      "execution_count": null,
      "metadata": {
        "colab": {
          "background_save": true
        },
        "id": "bK5UPfBd3giY"
      },
      "outputs": [],
      "source": [
        "data={\"messages\": [{\"source\":\"Yash\",\"response\": \"This is not a valid question\", \"prompt\": \"[{\\\"byFunc\\\": \\\"onchaintart\\\", \\\"input\\\": \\\"hi\\\", \\\"operatorDescriptiveFeedback\\\": \\\"\\\", \\\"operatorFeedback\\\": \\\"-1\\\", \\\"name\\\": \\\"AgentExecutor\\\", \\\"type\\\": \\\"custom_agent\\\"}, {\\\"byFunc\\\": \\\"onllmstart\\\", \\\"input\\\": \\\"[\\\\\\\"Answer the following questions as best you can. You have access to the following tools:\\\\\\\\n\\\\\\\\nintegral: useful for when you need to find integral of a string. It needs input as the string\\\\\\\\nBasic_Share_Outstanding: Returns the basic share outstanding from q\\\", \\\"operatorDescriptiveFeedback\\\": \\\"\\\", \\\"operatorFeedback\\\": \\\"-1\\\", \\\"name\\\": \\\"gpt-3.5-turbo-instruct\\\", \\\"type\\\": \\\"llm\\\"}, {\\\"byFunc\\\": \\\"onllmend\\\", \\\"output\\\": [null], \\\"operatorDescriptiveFeedback\\\": \\\"\\\", \\\"operatorFeedback\\\": \\\"-1\\\", \\\"type\\\": \\\"llm\\\"}, {\\\"byFunc\\\": \\\"on_agentfinish\\\", \\\"output\\\": \\\"This is not a valid question\\\", \\\"operatorDescriptiveFeedback\\\": \\\"\\\", \\\"operatorFeedback\\\": \\\"-1\\\", \\\"type\\\": \\\"custom_agent\\\"}]\"}, {\"role\": \"user\", \"content\": \"[{\\\"input\\\": \\\"hi\\\", \\\"output\\\": null, \\\"operatorDescriptiveFeedback\\\": \\\"\\\", \\\"operatorFeedback\\\": \\\"-1\\\", \\\"name\\\": \\\"LLMChain\\\", \\\"type\\\": \\\"custom_chain\\\"}]\"}, {\"role\": \"assistant\", \"content\": \"[{\\\"input\\\": null, \\\"output\\\": \\\" This is not a valid question\\\\nFinal Answer: This is not a valid question\\\", \\\"operatorDescriptiveFeedback\\\": \\\"\\\", \\\"operatorFeedback\\\": \\\"-1\\\", \\\"name\\\": null, \\\"type\\\": \\\"custom_chain\\\"}, {\\\"input\\\": null, \\\"output\\\": \\\"This is not a valid question\\\", \\\"operatorDescriptiveFeedback\\\": \\\"\\\", \\\"operatorFeedback\\\": \\\"-1\\\", \\\"name\\\": null, \\\"type\\\": \\\"custom_chain\\\"}]\"}]}\n",
        "m=data['messages'][0][\"prompt\"]\n",
        "datam={'prompt': 'Below is an instruction that describes a task. Write a response that appropriately completes the request.\\n\\n### Instruction\\nWhat are different types of grass?\\n\\n### Response\\n',\n",
        " 'response': 'There are more than 12,000 species of grass. The most common is Kentucky Bluegrass, because it grows quickly, easily, and is soft to the touch. Rygrass is shiny and bright green colored. Fescues are dark green and shiny. Bermuda grass is harder but can grow in drier soil.',\n",
        " 'source': 'dolly_hhrlhf'}\n"
      ]
    },
    {
      "cell_type": "code",
      "execution_count": null,
      "metadata": {
        "colab": {
          "base_uri": "https://localhost:8080/",
          "height": 108
        },
        "id": "ptP6SpMAOYAF",
        "outputId": "d3499b56-b022-4756-a801-438127afabbd"
      },
      "outputs": [
        {
          "ename": "SyntaxError",
          "evalue": "invalid syntax (<ipython-input-11-024dd0c9c2b9>, line 2)",
          "output_type": "error",
          "traceback": [
            "\u001b[0;36m  File \u001b[0;32m\"<ipython-input-11-024dd0c9c2b9>\"\u001b[0;36m, line \u001b[0;32m2\u001b[0m\n\u001b[0;31m    m2=\u001b[0m\n\u001b[0m       ^\u001b[0m\n\u001b[0;31mSyntaxError\u001b[0m\u001b[0;31m:\u001b[0m invalid syntax\n"
          ]
        }
      ],
      "source": [
        "m1={\"messages\": [{\"source\":\"Yash\",\"response\": \"This is not a valid question\", \"prompt\": \"[{\\\"byFunc\\\": \\\"onchaintart\\\", \\\"input\\\": \\\"hi\\\", \\\"operatorDescriptiveFeedback\\\": \\\"\\\", \\\"operatorFeedback\\\": \\\"-1\\\", \\\"name\\\": \\\"AgentExecutor\\\", \\\"type\\\": \\\"custom_agent\\\"}, {\\\"byFunc\\\": \\\"onllmstart\\\", \\\"input\\\": \\\"[\\\\\\\"Answer the following questions as best you can. You have access to the following tools:\\\\\\\\n\\\\\\\\nintegral: useful for when you need to find integral of a string. It needs input as the string\\\\\\\\nBasic_Share_Outstanding: Returns the basic share outstanding from q\\\", \\\"operatorDescriptiveFeedback\\\": \\\"\\\", \\\"operatorFeedback\\\": \\\"-1\\\", \\\"name\\\": \\\"gpt-3.5-turbo-instruct\\\", \\\"type\\\": \\\"llm\\\"}, {\\\"byFunc\\\": \\\"onllmend\\\", \\\"output\\\": [null], \\\"operatorDescriptiveFeedback\\\": \\\"\\\", \\\"operatorFeedback\\\": \\\"-1\\\", \\\"type\\\": \\\"llm\\\"}, {\\\"byFunc\\\": \\\"on_agentfinish\\\", \\\"output\\\": \\\"This is not a valid question\\\", \\\"operatorDescriptiveFeedback\\\": \\\"\\\", \\\"operatorFeedback\\\": \\\"-1\\\", \\\"type\\\": \\\"custom_agent\\\"}]\"}, {\"role\": \"user\", \"content\": \"[{\\\"input\\\": \\\"hi\\\", \\\"output\\\": null, \\\"operatorDescriptiveFeedback\\\": \\\"\\\", \\\"operatorFeedback\\\": \\\"-1\\\", \\\"name\\\": \\\"LLMChain\\\", \\\"type\\\": \\\"custom_chain\\\"}]\"}, {\"role\": \"assistant\", \"content\": \"[{\\\"input\\\": null, \\\"output\\\": \\\" This is not a valid question\\\\nFinal Answer: This is not a valid question\\\", \\\"operatorDescriptiveFeedback\\\": \\\"\\\", \\\"operatorFeedback\\\": \\\"-1\\\", \\\"name\\\": null, \\\"type\\\": \\\"custom_chain\\\"}, {\\\"input\\\": null, \\\"output\\\": \\\"This is not a valid question\\\", \\\"operatorDescriptiveFeedback\\\": \\\"\\\", \\\"operatorFeedback\\\": \\\"-1\\\", \\\"name\\\": null, \\\"type\\\": \\\"custom_chain\\\"}]\"}]}\n",
        "m2=\n",
        "\n",
        "\n",
        "m"
      ]
    },
    {
      "cell_type": "code",
      "execution_count": null,
      "metadata": {
        "id": "1x-80YGTNc0e"
      },
      "outputs": [],
      "source": [
        "type(data[\"messages\"])"
      ]
    },
    {
      "cell_type": "code",
      "execution_count": null,
      "metadata": {
        "id": "ZCY4cteV_p5_"
      },
      "outputs": [],
      "source": [
        "print(type(m),m)"
      ]
    },
    {
      "cell_type": "code",
      "execution_count": null,
      "metadata": {
        "id": "kNsIFBCI4jfp"
      },
      "outputs": [],
      "source": [
        "for sample in m:\n",
        "  print (sample,\" -\")\n",
        "\n",
        "for sample in datam:\n",
        "  print (sample)"
      ]
    },
    {
      "cell_type": "code",
      "execution_count": null,
      "metadata": {
        "id": "5khkJ4eKIRgZ"
      },
      "outputs": [],
      "source": [
        "b=create_prompt(datam)\n",
        "type(b)"
      ]
    },
    {
      "cell_type": "code",
      "execution_count": null,
      "metadata": {
        "id": "bxahhkbA5XKd"
      },
      "outputs": [],
      "source": [
        "a=create_prompt(m)\n",
        "a"
      ]
    },
    {
      "cell_type": "code",
      "execution_count": null,
      "metadata": {
        "id": "4HUFtNJLIbow"
      },
      "outputs": [],
      "source": [
        "type(a)"
      ]
    },
    {
      "cell_type": "markdown",
      "metadata": {
        "id": "UqUUCqssIsf-"
      },
      "source": [
        "<s>[INST]Use the provided input to create an instruction that could have been used to generate the response with an LLM.\n",
        "This is not a valid question[/INST][{\"byFunc\": \"onchaintart\", \"input\": \"hi\", \"operatorDescriptiveFeedback\": \"\", \"operatorFeedback\": \"-1\", \"name\": \"AgentExecutor\", \"type\": \"custom_agent\"}, {\"byFunc\": \"onllmstart\", \"input\": \"[\\\"Answer the following questions as best you can. You have access to the following tools:\\\\n\\\\nintegral: useful for when you need to find integral of a string. It needs input as the string\\\\nBasic_Share_Outstanding: Returns the basic share outstanding from q\", \"operatorDescriptiveFeedback\": \"\", \"operatorFeedback\": \"-1\", \"name\": \"gpt-3.5-turbo-instruct\", \"type\": \"llm\"}, {\"byFunc\": \"onllmend\", \"output\": [null], \"operatorDescriptiveFeedback\": \"\", \"operatorFeedback\": \"-1\", \"type\": \"llm\"}, {\"byFunc\": \"on_agentfinish\", \"output\": \"This is not a valid question\", \"operatorDescriptiveFeedback\": \"\", \"operatorFeedback\": \"-1\", \"type\": \"custom_agent\"}]</s>"
      ]
    },
    {
      "cell_type": "markdown",
      "metadata": {
        "id": "MrwJfiD0Iped"
      },
      "source": []
    },
    {
      "cell_type": "code",
      "execution_count": null,
      "metadata": {
        "id": "YUClW6X_3gls"
      },
      "outputs": [],
      "source": [
        "from peft import LoraConfig, get_peft_model, prepare_model_for_kbit_training\n",
        "\n",
        "peft_config = LoraConfig(\n",
        "    lora_alpha=16,\n",
        "    lora_dropout=0.1,\n",
        "    r=64,\n",
        "    bias=\"none\",\n",
        "        target_modules=[\n",
        "        \"q_proj\",\n",
        "        \"k_proj\",\n",
        "        \"v_proj\",\n",
        "        \"o_proj\",\n",
        "        \"gate_proj\",\n",
        "        \"up_proj\",\n",
        "        \"down_proj\",\n",
        "        \"lm_head\",\n",
        "    ],\n",
        "    task_type=\"CAUSAL_LM\"\n",
        ")"
      ]
    },
    {
      "cell_type": "code",
      "execution_count": null,
      "metadata": {
        "id": "aKnEIsEC3go6"
      },
      "outputs": [],
      "source": [
        "model = prepare_model_for_kbit_training(model)\n",
        "model = get_peft_model(model, peft_config)"
      ]
    },
    {
      "cell_type": "code",
      "execution_count": null,
      "metadata": {
        "id": "5Xee7azt3gsA"
      },
      "outputs": [],
      "source": [
        "def print_trainable_parameters(model):\n",
        "    \"\"\"\n",
        "    Prints the number of trainable parameters in the model.\n",
        "    \"\"\"\n",
        "    trainable_params = 0\n",
        "    all_param = 0\n",
        "    for _, param in model.named_parameters():\n",
        "        all_param += param.numel()\n",
        "        if param.requires_grad:\n",
        "            trainable_params += param.numel()\n",
        "    print(\n",
        "        f\"trainable params: {trainable_params} || all params: {all_param} || trainable%: {100 * trainable_params / all_param}\"\n",
        "    )\n",
        "\n",
        "print_trainable_parameters(model)"
      ]
    },
    {
      "cell_type": "code",
      "execution_count": null,
      "metadata": {
        "id": "W8pUlFtg3gvR"
      },
      "outputs": [],
      "source": [
        "print(model)"
      ]
    },
    {
      "cell_type": "code",
      "execution_count": null,
      "metadata": {
        "id": "oKtIPy-h3xA0"
      },
      "outputs": [],
      "source": [
        "if torch.cuda.device_count() > 1: # If more than 1 GPU\n",
        "    print(torch.cuda.device_count())\n",
        "    model.is_parallelizable = True\n",
        "    model.model_parallel = True"
      ]
    },
    {
      "cell_type": "code",
      "execution_count": null,
      "metadata": {
        "id": "yilFIEjk3yB2"
      },
      "outputs": [],
      "source": [
        "from transformers import TrainingArguments\n",
        "\n",
        "args = TrainingArguments(\n",
        "  output_dir = \"Mixtral_Alpace_v2\",\n",
        "  #num_train_epochs=5,\n",
        "  max_steps = 1000, # comment out this line if you want to train in epochs\n",
        "  per_device_train_batch_size = 32,\n",
        "  warmup_steps = 0.03,\n",
        "  logging_steps=10,\n",
        "  save_strategy=\"epoch\",\n",
        "  #evaluation_strategy=\"epoch\",\n",
        "  evaluation_strategy=\"steps\",\n",
        "  eval_steps=10, # comment out this line if you want to evaluate at the end of each epoch\n",
        "  learning_rate=2.5e-5,\n",
        "  bf16=False,\n",
        "  # lr_scheduler_type='constant',\n",
        ")"
      ]
    },
    {
      "cell_type": "code",
      "execution_count": null,
      "metadata": {
        "id": "XUF2N04cH8ho"
      },
      "outputs": [],
      "source": [
        "m"
      ]
    },
    {
      "cell_type": "code",
      "execution_count": null,
      "metadata": {
        "id": "QsgMXpodQWOV"
      },
      "outputs": [],
      "source": []
    },
    {
      "cell_type": "code",
      "execution_count": null,
      "metadata": {
        "id": "mOqbGG9M3yEz"
      },
      "outputs": [],
      "source": [
        "from trl import SFTTrainer\n",
        "\n",
        "max_seq_length = 1024\n",
        "\n",
        "trainer = SFTTrainer(\n",
        "  model=model,\n",
        "  peft_config=peft_config,\n",
        "  max_seq_length=max_seq_length,\n",
        "  tokenizer=tokenizer,\n",
        "\n",
        "  formatting_func=create_prompt, # this will aplly the create_prompt mapping to all training and test dataset\n",
        "  args=args,\n",
        "  train_dataset=m,\n",
        "  packing=True,\n",
        "  # eval_dataset=instruct_tune_dataset[\"test\"]\n",
        ")"
      ]
    },
    {
      "cell_type": "code",
      "execution_count": null,
      "metadata": {
        "id": "0fcePSQa34Zi"
      },
      "outputs": [],
      "source": []
    }
  ],
  "metadata": {
    "accelerator": "GPU",
    "colab": {
      "gpuType": "T4",
      "provenance": [],
      "include_colab_link": true
    },
    "kernelspec": {
      "display_name": "Python 3",
      "name": "python3"
    },
    "language_info": {
      "name": "python"
    },
    "widgets": {
      "application/vnd.jupyter.widget-state+json": {
        "063616e4de02451bace10342c70b19be": {
          "model_module": "@jupyter-widgets/base",
          "model_module_version": "1.2.0",
          "model_name": "LayoutModel",
          "state": {
            "_model_module": "@jupyter-widgets/base",
            "_model_module_version": "1.2.0",
            "_model_name": "LayoutModel",
            "_view_count": null,
            "_view_module": "@jupyter-widgets/base",
            "_view_module_version": "1.2.0",
            "_view_name": "LayoutView",
            "align_content": null,
            "align_items": null,
            "align_self": null,
            "border": null,
            "bottom": null,
            "display": null,
            "flex": null,
            "flex_flow": null,
            "grid_area": null,
            "grid_auto_columns": null,
            "grid_auto_flow": null,
            "grid_auto_rows": null,
            "grid_column": null,
            "grid_gap": null,
            "grid_row": null,
            "grid_template_areas": null,
            "grid_template_columns": null,
            "grid_template_rows": null,
            "height": null,
            "justify_content": null,
            "justify_items": null,
            "left": null,
            "margin": null,
            "max_height": null,
            "max_width": null,
            "min_height": null,
            "min_width": null,
            "object_fit": null,
            "object_position": null,
            "order": null,
            "overflow": null,
            "overflow_x": null,
            "overflow_y": null,
            "padding": null,
            "right": null,
            "top": null,
            "visibility": null,
            "width": null
          }
        },
        "08e0e9f4f2104b2da8620d08438024e1": {
          "model_module": "@jupyter-widgets/controls",
          "model_module_version": "1.5.0",
          "model_name": "DescriptionStyleModel",
          "state": {
            "_model_module": "@jupyter-widgets/controls",
            "_model_module_version": "1.5.0",
            "_model_name": "DescriptionStyleModel",
            "_view_count": null,
            "_view_module": "@jupyter-widgets/base",
            "_view_module_version": "1.2.0",
            "_view_name": "StyleView",
            "description_width": ""
          }
        },
        "12e3a99442124d168d3508ce7735fa77": {
          "model_module": "@jupyter-widgets/controls",
          "model_module_version": "1.5.0",
          "model_name": "HTMLModel",
          "state": {
            "_dom_classes": [],
            "_model_module": "@jupyter-widgets/controls",
            "_model_module_version": "1.5.0",
            "_model_name": "HTMLModel",
            "_view_count": null,
            "_view_module": "@jupyter-widgets/controls",
            "_view_module_version": "1.5.0",
            "_view_name": "HTMLView",
            "description": "",
            "description_tooltip": null,
            "layout": "IPY_MODEL_28ae5ca68c9b422d9874b9bd3c597392",
            "placeholder": "​",
            "style": "IPY_MODEL_af095aec645a4c8aaf7e3bfbf88ef26a",
            "value": "model-00001-of-00003.safetensors: 100%"
          }
        },
        "1464b42372604a489139ce5c113172f7": {
          "model_module": "@jupyter-widgets/controls",
          "model_module_version": "1.5.0",
          "model_name": "HTMLModel",
          "state": {
            "_dom_classes": [],
            "_model_module": "@jupyter-widgets/controls",
            "_model_module_version": "1.5.0",
            "_model_name": "HTMLModel",
            "_view_count": null,
            "_view_module": "@jupyter-widgets/controls",
            "_view_module_version": "1.5.0",
            "_view_name": "HTMLView",
            "description": "",
            "description_tooltip": null,
            "layout": "IPY_MODEL_b5c6daba974e439cb4285887de50df21",
            "placeholder": "​",
            "style": "IPY_MODEL_36214a5c82494e06b8c30ecc18c5ab54",
            "value": " 4.54G/4.54G [00:32&lt;00:00, 168MB/s]"
          }
        },
        "1b244ca1399045cab5901fff78fe1252": {
          "model_module": "@jupyter-widgets/base",
          "model_module_version": "1.2.0",
          "model_name": "LayoutModel",
          "state": {
            "_model_module": "@jupyter-widgets/base",
            "_model_module_version": "1.2.0",
            "_model_name": "LayoutModel",
            "_view_count": null,
            "_view_module": "@jupyter-widgets/base",
            "_view_module_version": "1.2.0",
            "_view_name": "LayoutView",
            "align_content": null,
            "align_items": null,
            "align_self": null,
            "border": null,
            "bottom": null,
            "display": null,
            "flex": null,
            "flex_flow": null,
            "grid_area": null,
            "grid_auto_columns": null,
            "grid_auto_flow": null,
            "grid_auto_rows": null,
            "grid_column": null,
            "grid_gap": null,
            "grid_row": null,
            "grid_template_areas": null,
            "grid_template_columns": null,
            "grid_template_rows": null,
            "height": null,
            "justify_content": null,
            "justify_items": null,
            "left": null,
            "margin": null,
            "max_height": null,
            "max_width": null,
            "min_height": null,
            "min_width": null,
            "object_fit": null,
            "object_position": null,
            "order": null,
            "overflow": null,
            "overflow_x": null,
            "overflow_y": null,
            "padding": null,
            "right": null,
            "top": null,
            "visibility": null,
            "width": null
          }
        },
        "1c14e483c6454b2e92bbff0f964b0c90": {
          "model_module": "@jupyter-widgets/controls",
          "model_module_version": "1.5.0",
          "model_name": "FloatProgressModel",
          "state": {
            "_dom_classes": [],
            "_model_module": "@jupyter-widgets/controls",
            "_model_module_version": "1.5.0",
            "_model_name": "FloatProgressModel",
            "_view_count": null,
            "_view_module": "@jupyter-widgets/controls",
            "_view_module_version": "1.5.0",
            "_view_name": "ProgressView",
            "bar_style": "success",
            "description": "",
            "description_tooltip": null,
            "layout": "IPY_MODEL_7ad930ae782a43c2ace609314db754ec",
            "max": 596,
            "min": 0,
            "orientation": "horizontal",
            "style": "IPY_MODEL_e53a983d140746a0a15c5e2795eb07ec",
            "value": 596
          }
        },
        "1ca980da8ba041a18a4a1ba8c8ecf298": {
          "model_module": "@jupyter-widgets/base",
          "model_module_version": "1.2.0",
          "model_name": "LayoutModel",
          "state": {
            "_model_module": "@jupyter-widgets/base",
            "_model_module_version": "1.2.0",
            "_model_name": "LayoutModel",
            "_view_count": null,
            "_view_module": "@jupyter-widgets/base",
            "_view_module_version": "1.2.0",
            "_view_name": "LayoutView",
            "align_content": null,
            "align_items": null,
            "align_self": null,
            "border": null,
            "bottom": null,
            "display": null,
            "flex": null,
            "flex_flow": null,
            "grid_area": null,
            "grid_auto_columns": null,
            "grid_auto_flow": null,
            "grid_auto_rows": null,
            "grid_column": null,
            "grid_gap": null,
            "grid_row": null,
            "grid_template_areas": null,
            "grid_template_columns": null,
            "grid_template_rows": null,
            "height": null,
            "justify_content": null,
            "justify_items": null,
            "left": null,
            "margin": null,
            "max_height": null,
            "max_width": null,
            "min_height": null,
            "min_width": null,
            "object_fit": null,
            "object_position": null,
            "order": null,
            "overflow": null,
            "overflow_x": null,
            "overflow_y": null,
            "padding": null,
            "right": null,
            "top": null,
            "visibility": null,
            "width": null
          }
        },
        "1e95303a79d248779bca4b632160b49b": {
          "model_module": "@jupyter-widgets/base",
          "model_module_version": "1.2.0",
          "model_name": "LayoutModel",
          "state": {
            "_model_module": "@jupyter-widgets/base",
            "_model_module_version": "1.2.0",
            "_model_name": "LayoutModel",
            "_view_count": null,
            "_view_module": "@jupyter-widgets/base",
            "_view_module_version": "1.2.0",
            "_view_name": "LayoutView",
            "align_content": null,
            "align_items": null,
            "align_self": null,
            "border": null,
            "bottom": null,
            "display": null,
            "flex": null,
            "flex_flow": null,
            "grid_area": null,
            "grid_auto_columns": null,
            "grid_auto_flow": null,
            "grid_auto_rows": null,
            "grid_column": null,
            "grid_gap": null,
            "grid_row": null,
            "grid_template_areas": null,
            "grid_template_columns": null,
            "grid_template_rows": null,
            "height": null,
            "justify_content": null,
            "justify_items": null,
            "left": null,
            "margin": null,
            "max_height": null,
            "max_width": null,
            "min_height": null,
            "min_width": null,
            "object_fit": null,
            "object_position": null,
            "order": null,
            "overflow": null,
            "overflow_x": null,
            "overflow_y": null,
            "padding": null,
            "right": null,
            "top": null,
            "visibility": null,
            "width": null
          }
        },
        "1ea90a8ce07d40d28ce4ca36911ab344": {
          "model_module": "@jupyter-widgets/controls",
          "model_module_version": "1.5.0",
          "model_name": "HBoxModel",
          "state": {
            "_dom_classes": [],
            "_model_module": "@jupyter-widgets/controls",
            "_model_module_version": "1.5.0",
            "_model_name": "HBoxModel",
            "_view_count": null,
            "_view_module": "@jupyter-widgets/controls",
            "_view_module_version": "1.5.0",
            "_view_name": "HBoxView",
            "box_style": "",
            "children": [
              "IPY_MODEL_9ff50952df504b73bfdf1b4bd76bc7fe",
              "IPY_MODEL_9a3676eb53db4ae49ccd86673b3b4709",
              "IPY_MODEL_e3466a26509d4ab6b9d6e49e13be674a"
            ],
            "layout": "IPY_MODEL_9100067ba67348789630b1f56172711f"
          }
        },
        "20c366b8ccde4d0aab43d32b31f327b4": {
          "model_module": "@jupyter-widgets/controls",
          "model_module_version": "1.5.0",
          "model_name": "DescriptionStyleModel",
          "state": {
            "_model_module": "@jupyter-widgets/controls",
            "_model_module_version": "1.5.0",
            "_model_name": "DescriptionStyleModel",
            "_view_count": null,
            "_view_module": "@jupyter-widgets/base",
            "_view_module_version": "1.2.0",
            "_view_name": "StyleView",
            "description_width": ""
          }
        },
        "23a59442cc874e54a31a7a6d4578791c": {
          "model_module": "@jupyter-widgets/controls",
          "model_module_version": "1.5.0",
          "model_name": "HBoxModel",
          "state": {
            "_dom_classes": [],
            "_model_module": "@jupyter-widgets/controls",
            "_model_module_version": "1.5.0",
            "_model_name": "HBoxModel",
            "_view_count": null,
            "_view_module": "@jupyter-widgets/controls",
            "_view_module_version": "1.5.0",
            "_view_name": "HBoxView",
            "box_style": "",
            "children": [
              "IPY_MODEL_53bb1c29ce25435aa157a3761749ee94",
              "IPY_MODEL_5bc3becd93e04d24b28b95ee3ca84f56",
              "IPY_MODEL_7fbbb41c85b042b5a82cc8da4df4c39d"
            ],
            "layout": "IPY_MODEL_1ca980da8ba041a18a4a1ba8c8ecf298"
          }
        },
        "26c066acea004a7593e7d2d4cd20b33d": {
          "model_module": "@jupyter-widgets/controls",
          "model_module_version": "1.5.0",
          "model_name": "HTMLModel",
          "state": {
            "_dom_classes": [],
            "_model_module": "@jupyter-widgets/controls",
            "_model_module_version": "1.5.0",
            "_model_name": "HTMLModel",
            "_view_count": null,
            "_view_module": "@jupyter-widgets/controls",
            "_view_module_version": "1.5.0",
            "_view_name": "HTMLView",
            "description": "",
            "description_tooltip": null,
            "layout": "IPY_MODEL_063616e4de02451bace10342c70b19be",
            "placeholder": "​",
            "style": "IPY_MODEL_432a5551972342c1b70a40adabd98b05",
            "value": " 3/3 [01:11&lt;00:00, 23.59s/it]"
          }
        },
        "26c825a71dfb403db33b77ce92526db6": {
          "model_module": "@jupyter-widgets/controls",
          "model_module_version": "1.5.0",
          "model_name": "DescriptionStyleModel",
          "state": {
            "_model_module": "@jupyter-widgets/controls",
            "_model_module_version": "1.5.0",
            "_model_name": "DescriptionStyleModel",
            "_view_count": null,
            "_view_module": "@jupyter-widgets/base",
            "_view_module_version": "1.2.0",
            "_view_name": "StyleView",
            "description_width": ""
          }
        },
        "2800573ba3064cafb35f19493b6028b2": {
          "model_module": "@jupyter-widgets/controls",
          "model_module_version": "1.5.0",
          "model_name": "DescriptionStyleModel",
          "state": {
            "_model_module": "@jupyter-widgets/controls",
            "_model_module_version": "1.5.0",
            "_model_name": "DescriptionStyleModel",
            "_view_count": null,
            "_view_module": "@jupyter-widgets/base",
            "_view_module_version": "1.2.0",
            "_view_name": "StyleView",
            "description_width": ""
          }
        },
        "28ae5ca68c9b422d9874b9bd3c597392": {
          "model_module": "@jupyter-widgets/base",
          "model_module_version": "1.2.0",
          "model_name": "LayoutModel",
          "state": {
            "_model_module": "@jupyter-widgets/base",
            "_model_module_version": "1.2.0",
            "_model_name": "LayoutModel",
            "_view_count": null,
            "_view_module": "@jupyter-widgets/base",
            "_view_module_version": "1.2.0",
            "_view_name": "LayoutView",
            "align_content": null,
            "align_items": null,
            "align_self": null,
            "border": null,
            "bottom": null,
            "display": null,
            "flex": null,
            "flex_flow": null,
            "grid_area": null,
            "grid_auto_columns": null,
            "grid_auto_flow": null,
            "grid_auto_rows": null,
            "grid_column": null,
            "grid_gap": null,
            "grid_row": null,
            "grid_template_areas": null,
            "grid_template_columns": null,
            "grid_template_rows": null,
            "height": null,
            "justify_content": null,
            "justify_items": null,
            "left": null,
            "margin": null,
            "max_height": null,
            "max_width": null,
            "min_height": null,
            "min_width": null,
            "object_fit": null,
            "object_position": null,
            "order": null,
            "overflow": null,
            "overflow_x": null,
            "overflow_y": null,
            "padding": null,
            "right": null,
            "top": null,
            "visibility": null,
            "width": null
          }
        },
        "2dd756b2dd884a4cb63a8b073f711b92": {
          "model_module": "@jupyter-widgets/base",
          "model_module_version": "1.2.0",
          "model_name": "LayoutModel",
          "state": {
            "_model_module": "@jupyter-widgets/base",
            "_model_module_version": "1.2.0",
            "_model_name": "LayoutModel",
            "_view_count": null,
            "_view_module": "@jupyter-widgets/base",
            "_view_module_version": "1.2.0",
            "_view_name": "LayoutView",
            "align_content": null,
            "align_items": null,
            "align_self": null,
            "border": null,
            "bottom": null,
            "display": null,
            "flex": null,
            "flex_flow": null,
            "grid_area": null,
            "grid_auto_columns": null,
            "grid_auto_flow": null,
            "grid_auto_rows": null,
            "grid_column": null,
            "grid_gap": null,
            "grid_row": null,
            "grid_template_areas": null,
            "grid_template_columns": null,
            "grid_template_rows": null,
            "height": null,
            "justify_content": null,
            "justify_items": null,
            "left": null,
            "margin": null,
            "max_height": null,
            "max_width": null,
            "min_height": null,
            "min_width": null,
            "object_fit": null,
            "object_position": null,
            "order": null,
            "overflow": null,
            "overflow_x": null,
            "overflow_y": null,
            "padding": null,
            "right": null,
            "top": null,
            "visibility": null,
            "width": null
          }
        },
        "2f378694419b4fddb3a581808cd675db": {
          "model_module": "@jupyter-widgets/controls",
          "model_module_version": "1.5.0",
          "model_name": "ProgressStyleModel",
          "state": {
            "_model_module": "@jupyter-widgets/controls",
            "_model_module_version": "1.5.0",
            "_model_name": "ProgressStyleModel",
            "_view_count": null,
            "_view_module": "@jupyter-widgets/base",
            "_view_module_version": "1.2.0",
            "_view_name": "StyleView",
            "bar_color": null,
            "description_width": ""
          }
        },
        "33bffe13b99b404f9a20a4d110d1d5a5": {
          "model_module": "@jupyter-widgets/controls",
          "model_module_version": "1.5.0",
          "model_name": "DescriptionStyleModel",
          "state": {
            "_model_module": "@jupyter-widgets/controls",
            "_model_module_version": "1.5.0",
            "_model_name": "DescriptionStyleModel",
            "_view_count": null,
            "_view_module": "@jupyter-widgets/base",
            "_view_module_version": "1.2.0",
            "_view_name": "StyleView",
            "description_width": ""
          }
        },
        "36214a5c82494e06b8c30ecc18c5ab54": {
          "model_module": "@jupyter-widgets/controls",
          "model_module_version": "1.5.0",
          "model_name": "DescriptionStyleModel",
          "state": {
            "_model_module": "@jupyter-widgets/controls",
            "_model_module_version": "1.5.0",
            "_model_name": "DescriptionStyleModel",
            "_view_count": null,
            "_view_module": "@jupyter-widgets/base",
            "_view_module_version": "1.2.0",
            "_view_name": "StyleView",
            "description_width": ""
          }
        },
        "3879d3ff1bb14c5b98948735df1a6a9f": {
          "model_module": "@jupyter-widgets/base",
          "model_module_version": "1.2.0",
          "model_name": "LayoutModel",
          "state": {
            "_model_module": "@jupyter-widgets/base",
            "_model_module_version": "1.2.0",
            "_model_name": "LayoutModel",
            "_view_count": null,
            "_view_module": "@jupyter-widgets/base",
            "_view_module_version": "1.2.0",
            "_view_name": "LayoutView",
            "align_content": null,
            "align_items": null,
            "align_self": null,
            "border": null,
            "bottom": null,
            "display": null,
            "flex": null,
            "flex_flow": null,
            "grid_area": null,
            "grid_auto_columns": null,
            "grid_auto_flow": null,
            "grid_auto_rows": null,
            "grid_column": null,
            "grid_gap": null,
            "grid_row": null,
            "grid_template_areas": null,
            "grid_template_columns": null,
            "grid_template_rows": null,
            "height": null,
            "justify_content": null,
            "justify_items": null,
            "left": null,
            "margin": null,
            "max_height": null,
            "max_width": null,
            "min_height": null,
            "min_width": null,
            "object_fit": null,
            "object_position": null,
            "order": null,
            "overflow": null,
            "overflow_x": null,
            "overflow_y": null,
            "padding": null,
            "right": null,
            "top": null,
            "visibility": null,
            "width": null
          }
        },
        "3fe0dc467e3f4b29b1ee185823dc42b2": {
          "model_module": "@jupyter-widgets/base",
          "model_module_version": "1.2.0",
          "model_name": "LayoutModel",
          "state": {
            "_model_module": "@jupyter-widgets/base",
            "_model_module_version": "1.2.0",
            "_model_name": "LayoutModel",
            "_view_count": null,
            "_view_module": "@jupyter-widgets/base",
            "_view_module_version": "1.2.0",
            "_view_name": "LayoutView",
            "align_content": null,
            "align_items": null,
            "align_self": null,
            "border": null,
            "bottom": null,
            "display": null,
            "flex": null,
            "flex_flow": null,
            "grid_area": null,
            "grid_auto_columns": null,
            "grid_auto_flow": null,
            "grid_auto_rows": null,
            "grid_column": null,
            "grid_gap": null,
            "grid_row": null,
            "grid_template_areas": null,
            "grid_template_columns": null,
            "grid_template_rows": null,
            "height": null,
            "justify_content": null,
            "justify_items": null,
            "left": null,
            "margin": null,
            "max_height": null,
            "max_width": null,
            "min_height": null,
            "min_width": null,
            "object_fit": null,
            "object_position": null,
            "order": null,
            "overflow": null,
            "overflow_x": null,
            "overflow_y": null,
            "padding": null,
            "right": null,
            "top": null,
            "visibility": null,
            "width": null
          }
        },
        "42b6282061684b038bfd1f070036f968": {
          "model_module": "@jupyter-widgets/controls",
          "model_module_version": "1.5.0",
          "model_name": "HTMLModel",
          "state": {
            "_dom_classes": [],
            "_model_module": "@jupyter-widgets/controls",
            "_model_module_version": "1.5.0",
            "_model_name": "HTMLModel",
            "_view_count": null,
            "_view_module": "@jupyter-widgets/controls",
            "_view_module_version": "1.5.0",
            "_view_name": "HTMLView",
            "description": "",
            "description_tooltip": null,
            "layout": "IPY_MODEL_3879d3ff1bb14c5b98948735df1a6a9f",
            "placeholder": "​",
            "style": "IPY_MODEL_20c366b8ccde4d0aab43d32b31f327b4",
            "value": " 25.1k/25.1k [00:00&lt;00:00, 1.40MB/s]"
          }
        },
        "432a5551972342c1b70a40adabd98b05": {
          "model_module": "@jupyter-widgets/controls",
          "model_module_version": "1.5.0",
          "model_name": "DescriptionStyleModel",
          "state": {
            "_model_module": "@jupyter-widgets/controls",
            "_model_module_version": "1.5.0",
            "_model_name": "DescriptionStyleModel",
            "_view_count": null,
            "_view_module": "@jupyter-widgets/base",
            "_view_module_version": "1.2.0",
            "_view_name": "StyleView",
            "description_width": ""
          }
        },
        "49332df9dc574027b218d07d53ae4f8f": {
          "model_module": "@jupyter-widgets/base",
          "model_module_version": "1.2.0",
          "model_name": "LayoutModel",
          "state": {
            "_model_module": "@jupyter-widgets/base",
            "_model_module_version": "1.2.0",
            "_model_name": "LayoutModel",
            "_view_count": null,
            "_view_module": "@jupyter-widgets/base",
            "_view_module_version": "1.2.0",
            "_view_name": "LayoutView",
            "align_content": null,
            "align_items": null,
            "align_self": null,
            "border": null,
            "bottom": null,
            "display": null,
            "flex": null,
            "flex_flow": null,
            "grid_area": null,
            "grid_auto_columns": null,
            "grid_auto_flow": null,
            "grid_auto_rows": null,
            "grid_column": null,
            "grid_gap": null,
            "grid_row": null,
            "grid_template_areas": null,
            "grid_template_columns": null,
            "grid_template_rows": null,
            "height": null,
            "justify_content": null,
            "justify_items": null,
            "left": null,
            "margin": null,
            "max_height": null,
            "max_width": null,
            "min_height": null,
            "min_width": null,
            "object_fit": null,
            "object_position": null,
            "order": null,
            "overflow": null,
            "overflow_x": null,
            "overflow_y": null,
            "padding": null,
            "right": null,
            "top": null,
            "visibility": null,
            "width": null
          }
        },
        "49710a8687584a639d4872c1252ecf0d": {
          "model_module": "@jupyter-widgets/controls",
          "model_module_version": "1.5.0",
          "model_name": "HBoxModel",
          "state": {
            "_dom_classes": [],
            "_model_module": "@jupyter-widgets/controls",
            "_model_module_version": "1.5.0",
            "_model_name": "HBoxModel",
            "_view_count": null,
            "_view_module": "@jupyter-widgets/controls",
            "_view_module_version": "1.5.0",
            "_view_name": "HBoxView",
            "box_style": "",
            "children": [
              "IPY_MODEL_12e3a99442124d168d3508ce7735fa77",
              "IPY_MODEL_72921017549d438cb357147a03c37b3c",
              "IPY_MODEL_eaa1eb6b05534fd6bda50dca4ca1b537"
            ],
            "layout": "IPY_MODEL_6293cd7f361c48ceba0089baabbebcb9"
          }
        },
        "4b6ab605b862417dacf9b5e6804da6ee": {
          "model_module": "@jupyter-widgets/controls",
          "model_module_version": "1.5.0",
          "model_name": "HBoxModel",
          "state": {
            "_dom_classes": [],
            "_model_module": "@jupyter-widgets/controls",
            "_model_module_version": "1.5.0",
            "_model_name": "HBoxModel",
            "_view_count": null,
            "_view_module": "@jupyter-widgets/controls",
            "_view_module_version": "1.5.0",
            "_view_name": "HBoxView",
            "box_style": "",
            "children": [
              "IPY_MODEL_e1b220e80bb24f97892a7065b82a5a59",
              "IPY_MODEL_1c14e483c6454b2e92bbff0f964b0c90",
              "IPY_MODEL_9d887dbefecf42859cec26b1b8148c4c"
            ],
            "layout": "IPY_MODEL_7491a2fc1d6d4f19b7340d8800365bd0"
          }
        },
        "53bb1c29ce25435aa157a3761749ee94": {
          "model_module": "@jupyter-widgets/controls",
          "model_module_version": "1.5.0",
          "model_name": "HTMLModel",
          "state": {
            "_dom_classes": [],
            "_model_module": "@jupyter-widgets/controls",
            "_model_module_version": "1.5.0",
            "_model_name": "HTMLModel",
            "_view_count": null,
            "_view_module": "@jupyter-widgets/controls",
            "_view_module_version": "1.5.0",
            "_view_name": "HTMLView",
            "description": "",
            "description_tooltip": null,
            "layout": "IPY_MODEL_49332df9dc574027b218d07d53ae4f8f",
            "placeholder": "​",
            "style": "IPY_MODEL_33bffe13b99b404f9a20a4d110d1d5a5",
            "value": "generation_config.json: 100%"
          }
        },
        "54a43fe4b7e74014955599e8b4cd42b4": {
          "model_module": "@jupyter-widgets/controls",
          "model_module_version": "1.5.0",
          "model_name": "DescriptionStyleModel",
          "state": {
            "_model_module": "@jupyter-widgets/controls",
            "_model_module_version": "1.5.0",
            "_model_name": "DescriptionStyleModel",
            "_view_count": null,
            "_view_module": "@jupyter-widgets/base",
            "_view_module_version": "1.2.0",
            "_view_name": "StyleView",
            "description_width": ""
          }
        },
        "58e0d19b22114cf3bbb875ab26089f83": {
          "model_module": "@jupyter-widgets/base",
          "model_module_version": "1.2.0",
          "model_name": "LayoutModel",
          "state": {
            "_model_module": "@jupyter-widgets/base",
            "_model_module_version": "1.2.0",
            "_model_name": "LayoutModel",
            "_view_count": null,
            "_view_module": "@jupyter-widgets/base",
            "_view_module_version": "1.2.0",
            "_view_name": "LayoutView",
            "align_content": null,
            "align_items": null,
            "align_self": null,
            "border": null,
            "bottom": null,
            "display": null,
            "flex": null,
            "flex_flow": null,
            "grid_area": null,
            "grid_auto_columns": null,
            "grid_auto_flow": null,
            "grid_auto_rows": null,
            "grid_column": null,
            "grid_gap": null,
            "grid_row": null,
            "grid_template_areas": null,
            "grid_template_columns": null,
            "grid_template_rows": null,
            "height": null,
            "justify_content": null,
            "justify_items": null,
            "left": null,
            "margin": null,
            "max_height": null,
            "max_width": null,
            "min_height": null,
            "min_width": null,
            "object_fit": null,
            "object_position": null,
            "order": null,
            "overflow": null,
            "overflow_x": null,
            "overflow_y": null,
            "padding": null,
            "right": null,
            "top": null,
            "visibility": null,
            "width": null
          }
        },
        "5a79cf7594a3404186e469b911d7eaa2": {
          "model_module": "@jupyter-widgets/controls",
          "model_module_version": "1.5.0",
          "model_name": "HBoxModel",
          "state": {
            "_dom_classes": [],
            "_model_module": "@jupyter-widgets/controls",
            "_model_module_version": "1.5.0",
            "_model_name": "HBoxModel",
            "_view_count": null,
            "_view_module": "@jupyter-widgets/controls",
            "_view_module_version": "1.5.0",
            "_view_name": "HBoxView",
            "box_style": "",
            "children": [
              "IPY_MODEL_fe7e7c6e66f0486f966be14aaa9d0fbe",
              "IPY_MODEL_b9812cda346c499e9cf98fa6f06638f7",
              "IPY_MODEL_ab8b49cd02f7475f81a4837e763e15a2"
            ],
            "layout": "IPY_MODEL_58e0d19b22114cf3bbb875ab26089f83"
          }
        },
        "5bc3becd93e04d24b28b95ee3ca84f56": {
          "model_module": "@jupyter-widgets/controls",
          "model_module_version": "1.5.0",
          "model_name": "FloatProgressModel",
          "state": {
            "_dom_classes": [],
            "_model_module": "@jupyter-widgets/controls",
            "_model_module_version": "1.5.0",
            "_model_name": "FloatProgressModel",
            "_view_count": null,
            "_view_module": "@jupyter-widgets/controls",
            "_view_module_version": "1.5.0",
            "_view_name": "ProgressView",
            "bar_style": "success",
            "description": "",
            "description_tooltip": null,
            "layout": "IPY_MODEL_e3dfcf8c8d1c4cccbe4d27db239b5a19",
            "max": 111,
            "min": 0,
            "orientation": "horizontal",
            "style": "IPY_MODEL_96601ba0569049c6bed8508ba68bf139",
            "value": 111
          }
        },
        "5d27c4e4f19a49668a92d3470495868a": {
          "model_module": "@jupyter-widgets/base",
          "model_module_version": "1.2.0",
          "model_name": "LayoutModel",
          "state": {
            "_model_module": "@jupyter-widgets/base",
            "_model_module_version": "1.2.0",
            "_model_name": "LayoutModel",
            "_view_count": null,
            "_view_module": "@jupyter-widgets/base",
            "_view_module_version": "1.2.0",
            "_view_name": "LayoutView",
            "align_content": null,
            "align_items": null,
            "align_self": null,
            "border": null,
            "bottom": null,
            "display": null,
            "flex": null,
            "flex_flow": null,
            "grid_area": null,
            "grid_auto_columns": null,
            "grid_auto_flow": null,
            "grid_auto_rows": null,
            "grid_column": null,
            "grid_gap": null,
            "grid_row": null,
            "grid_template_areas": null,
            "grid_template_columns": null,
            "grid_template_rows": null,
            "height": null,
            "justify_content": null,
            "justify_items": null,
            "left": null,
            "margin": null,
            "max_height": null,
            "max_width": null,
            "min_height": null,
            "min_width": null,
            "object_fit": null,
            "object_position": null,
            "order": null,
            "overflow": null,
            "overflow_x": null,
            "overflow_y": null,
            "padding": null,
            "right": null,
            "top": null,
            "visibility": null,
            "width": null
          }
        },
        "5eddcd44aa264447ad48382c34f63009": {
          "model_module": "@jupyter-widgets/base",
          "model_module_version": "1.2.0",
          "model_name": "LayoutModel",
          "state": {
            "_model_module": "@jupyter-widgets/base",
            "_model_module_version": "1.2.0",
            "_model_name": "LayoutModel",
            "_view_count": null,
            "_view_module": "@jupyter-widgets/base",
            "_view_module_version": "1.2.0",
            "_view_name": "LayoutView",
            "align_content": null,
            "align_items": null,
            "align_self": null,
            "border": null,
            "bottom": null,
            "display": null,
            "flex": null,
            "flex_flow": null,
            "grid_area": null,
            "grid_auto_columns": null,
            "grid_auto_flow": null,
            "grid_auto_rows": null,
            "grid_column": null,
            "grid_gap": null,
            "grid_row": null,
            "grid_template_areas": null,
            "grid_template_columns": null,
            "grid_template_rows": null,
            "height": null,
            "justify_content": null,
            "justify_items": null,
            "left": null,
            "margin": null,
            "max_height": null,
            "max_width": null,
            "min_height": null,
            "min_width": null,
            "object_fit": null,
            "object_position": null,
            "order": null,
            "overflow": null,
            "overflow_x": null,
            "overflow_y": null,
            "padding": null,
            "right": null,
            "top": null,
            "visibility": null,
            "width": null
          }
        },
        "604c1b47e79d4f74888d491775fe9c77": {
          "model_module": "@jupyter-widgets/controls",
          "model_module_version": "1.5.0",
          "model_name": "FloatProgressModel",
          "state": {
            "_dom_classes": [],
            "_model_module": "@jupyter-widgets/controls",
            "_model_module_version": "1.5.0",
            "_model_name": "FloatProgressModel",
            "_view_count": null,
            "_view_module": "@jupyter-widgets/controls",
            "_view_module_version": "1.5.0",
            "_view_name": "ProgressView",
            "bar_style": "success",
            "description": "",
            "description_tooltip": null,
            "layout": "IPY_MODEL_f34070f934a94c03bba0bcc1b752f57a",
            "max": 4540516344,
            "min": 0,
            "orientation": "horizontal",
            "style": "IPY_MODEL_b0666daf809b4bd19bee85b5ed01d0af",
            "value": 4540516344
          }
        },
        "6293cd7f361c48ceba0089baabbebcb9": {
          "model_module": "@jupyter-widgets/base",
          "model_module_version": "1.2.0",
          "model_name": "LayoutModel",
          "state": {
            "_model_module": "@jupyter-widgets/base",
            "_model_module_version": "1.2.0",
            "_model_name": "LayoutModel",
            "_view_count": null,
            "_view_module": "@jupyter-widgets/base",
            "_view_module_version": "1.2.0",
            "_view_name": "LayoutView",
            "align_content": null,
            "align_items": null,
            "align_self": null,
            "border": null,
            "bottom": null,
            "display": null,
            "flex": null,
            "flex_flow": null,
            "grid_area": null,
            "grid_auto_columns": null,
            "grid_auto_flow": null,
            "grid_auto_rows": null,
            "grid_column": null,
            "grid_gap": null,
            "grid_row": null,
            "grid_template_areas": null,
            "grid_template_columns": null,
            "grid_template_rows": null,
            "height": null,
            "justify_content": null,
            "justify_items": null,
            "left": null,
            "margin": null,
            "max_height": null,
            "max_width": null,
            "min_height": null,
            "min_width": null,
            "object_fit": null,
            "object_position": null,
            "order": null,
            "overflow": null,
            "overflow_x": null,
            "overflow_y": null,
            "padding": null,
            "right": null,
            "top": null,
            "visibility": null,
            "width": null
          }
        },
        "64c36a279402490bbe126e936765267d": {
          "model_module": "@jupyter-widgets/controls",
          "model_module_version": "1.5.0",
          "model_name": "DescriptionStyleModel",
          "state": {
            "_model_module": "@jupyter-widgets/controls",
            "_model_module_version": "1.5.0",
            "_model_name": "DescriptionStyleModel",
            "_view_count": null,
            "_view_module": "@jupyter-widgets/base",
            "_view_module_version": "1.2.0",
            "_view_name": "StyleView",
            "description_width": ""
          }
        },
        "6a8cd7e6271d412081f9a53b387b5944": {
          "model_module": "@jupyter-widgets/base",
          "model_module_version": "1.2.0",
          "model_name": "LayoutModel",
          "state": {
            "_model_module": "@jupyter-widgets/base",
            "_model_module_version": "1.2.0",
            "_model_name": "LayoutModel",
            "_view_count": null,
            "_view_module": "@jupyter-widgets/base",
            "_view_module_version": "1.2.0",
            "_view_name": "LayoutView",
            "align_content": null,
            "align_items": null,
            "align_self": null,
            "border": null,
            "bottom": null,
            "display": null,
            "flex": null,
            "flex_flow": null,
            "grid_area": null,
            "grid_auto_columns": null,
            "grid_auto_flow": null,
            "grid_auto_rows": null,
            "grid_column": null,
            "grid_gap": null,
            "grid_row": null,
            "grid_template_areas": null,
            "grid_template_columns": null,
            "grid_template_rows": null,
            "height": null,
            "justify_content": null,
            "justify_items": null,
            "left": null,
            "margin": null,
            "max_height": null,
            "max_width": null,
            "min_height": null,
            "min_width": null,
            "object_fit": null,
            "object_position": null,
            "order": null,
            "overflow": null,
            "overflow_x": null,
            "overflow_y": null,
            "padding": null,
            "right": null,
            "top": null,
            "visibility": null,
            "width": null
          }
        },
        "6c96ea6c99a24c0ab5a65447942b01b0": {
          "model_module": "@jupyter-widgets/controls",
          "model_module_version": "1.5.0",
          "model_name": "FloatProgressModel",
          "state": {
            "_dom_classes": [],
            "_model_module": "@jupyter-widgets/controls",
            "_model_module_version": "1.5.0",
            "_model_name": "FloatProgressModel",
            "_view_count": null,
            "_view_module": "@jupyter-widgets/controls",
            "_view_module_version": "1.5.0",
            "_view_name": "ProgressView",
            "bar_style": "success",
            "description": "",
            "description_tooltip": null,
            "layout": "IPY_MODEL_1e95303a79d248779bca4b632160b49b",
            "max": 25125,
            "min": 0,
            "orientation": "horizontal",
            "style": "IPY_MODEL_f1772ebfd6754384a9a5f03b7550a1cc",
            "value": 25125
          }
        },
        "6df1cc53b51f41d084b9e4f69250a108": {
          "model_module": "@jupyter-widgets/controls",
          "model_module_version": "1.5.0",
          "model_name": "ProgressStyleModel",
          "state": {
            "_model_module": "@jupyter-widgets/controls",
            "_model_module_version": "1.5.0",
            "_model_name": "ProgressStyleModel",
            "_view_count": null,
            "_view_module": "@jupyter-widgets/base",
            "_view_module_version": "1.2.0",
            "_view_name": "StyleView",
            "bar_color": null,
            "description_width": ""
          }
        },
        "724ebe614f6a43e49dcb94d193c20491": {
          "model_module": "@jupyter-widgets/controls",
          "model_module_version": "1.5.0",
          "model_name": "HBoxModel",
          "state": {
            "_dom_classes": [],
            "_model_module": "@jupyter-widgets/controls",
            "_model_module_version": "1.5.0",
            "_model_name": "HBoxModel",
            "_view_count": null,
            "_view_module": "@jupyter-widgets/controls",
            "_view_module_version": "1.5.0",
            "_view_name": "HBoxView",
            "box_style": "",
            "children": [
              "IPY_MODEL_a676298d3d164c9d997b9b14775d213b",
              "IPY_MODEL_ddb38b9da7fd4d4d9ae85fd740eae094",
              "IPY_MODEL_26c066acea004a7593e7d2d4cd20b33d"
            ],
            "layout": "IPY_MODEL_bb74419707b644c7a391adcf1eeb05b2"
          }
        },
        "72921017549d438cb357147a03c37b3c": {
          "model_module": "@jupyter-widgets/controls",
          "model_module_version": "1.5.0",
          "model_name": "FloatProgressModel",
          "state": {
            "_dom_classes": [],
            "_model_module": "@jupyter-widgets/controls",
            "_model_module_version": "1.5.0",
            "_model_name": "FloatProgressModel",
            "_view_count": null,
            "_view_module": "@jupyter-widgets/controls",
            "_view_module_version": "1.5.0",
            "_view_name": "ProgressView",
            "bar_style": "success",
            "description": "",
            "description_tooltip": null,
            "layout": "IPY_MODEL_be343e5a2ea545d080902f7f0ac13af2",
            "max": 4943162336,
            "min": 0,
            "orientation": "horizontal",
            "style": "IPY_MODEL_bd97d93ab04347068eb59baac0a2929d",
            "value": 4943162336
          }
        },
        "746bd5b045fc444a8aa18fd80348d855": {
          "model_module": "@jupyter-widgets/controls",
          "model_module_version": "1.5.0",
          "model_name": "HBoxModel",
          "state": {
            "_dom_classes": [],
            "_model_module": "@jupyter-widgets/controls",
            "_model_module_version": "1.5.0",
            "_model_name": "HBoxModel",
            "_view_count": null,
            "_view_module": "@jupyter-widgets/controls",
            "_view_module_version": "1.5.0",
            "_view_name": "HBoxView",
            "box_style": "",
            "children": [
              "IPY_MODEL_b08e6f7e35dc494aa42bd9e48acc1fae",
              "IPY_MODEL_6c96ea6c99a24c0ab5a65447942b01b0",
              "IPY_MODEL_42b6282061684b038bfd1f070036f968"
            ],
            "layout": "IPY_MODEL_8e4198832e2d4c8bb45925f9d5e22105"
          }
        },
        "7491a2fc1d6d4f19b7340d8800365bd0": {
          "model_module": "@jupyter-widgets/base",
          "model_module_version": "1.2.0",
          "model_name": "LayoutModel",
          "state": {
            "_model_module": "@jupyter-widgets/base",
            "_model_module_version": "1.2.0",
            "_model_name": "LayoutModel",
            "_view_count": null,
            "_view_module": "@jupyter-widgets/base",
            "_view_module_version": "1.2.0",
            "_view_name": "LayoutView",
            "align_content": null,
            "align_items": null,
            "align_self": null,
            "border": null,
            "bottom": null,
            "display": null,
            "flex": null,
            "flex_flow": null,
            "grid_area": null,
            "grid_auto_columns": null,
            "grid_auto_flow": null,
            "grid_auto_rows": null,
            "grid_column": null,
            "grid_gap": null,
            "grid_row": null,
            "grid_template_areas": null,
            "grid_template_columns": null,
            "grid_template_rows": null,
            "height": null,
            "justify_content": null,
            "justify_items": null,
            "left": null,
            "margin": null,
            "max_height": null,
            "max_width": null,
            "min_height": null,
            "min_width": null,
            "object_fit": null,
            "object_position": null,
            "order": null,
            "overflow": null,
            "overflow_x": null,
            "overflow_y": null,
            "padding": null,
            "right": null,
            "top": null,
            "visibility": null,
            "width": null
          }
        },
        "7ad930ae782a43c2ace609314db754ec": {
          "model_module": "@jupyter-widgets/base",
          "model_module_version": "1.2.0",
          "model_name": "LayoutModel",
          "state": {
            "_model_module": "@jupyter-widgets/base",
            "_model_module_version": "1.2.0",
            "_model_name": "LayoutModel",
            "_view_count": null,
            "_view_module": "@jupyter-widgets/base",
            "_view_module_version": "1.2.0",
            "_view_name": "LayoutView",
            "align_content": null,
            "align_items": null,
            "align_self": null,
            "border": null,
            "bottom": null,
            "display": null,
            "flex": null,
            "flex_flow": null,
            "grid_area": null,
            "grid_auto_columns": null,
            "grid_auto_flow": null,
            "grid_auto_rows": null,
            "grid_column": null,
            "grid_gap": null,
            "grid_row": null,
            "grid_template_areas": null,
            "grid_template_columns": null,
            "grid_template_rows": null,
            "height": null,
            "justify_content": null,
            "justify_items": null,
            "left": null,
            "margin": null,
            "max_height": null,
            "max_width": null,
            "min_height": null,
            "min_width": null,
            "object_fit": null,
            "object_position": null,
            "order": null,
            "overflow": null,
            "overflow_x": null,
            "overflow_y": null,
            "padding": null,
            "right": null,
            "top": null,
            "visibility": null,
            "width": null
          }
        },
        "7fbbb41c85b042b5a82cc8da4df4c39d": {
          "model_module": "@jupyter-widgets/controls",
          "model_module_version": "1.5.0",
          "model_name": "HTMLModel",
          "state": {
            "_dom_classes": [],
            "_model_module": "@jupyter-widgets/controls",
            "_model_module_version": "1.5.0",
            "_model_name": "HTMLModel",
            "_view_count": null,
            "_view_module": "@jupyter-widgets/controls",
            "_view_module_version": "1.5.0",
            "_view_name": "HTMLView",
            "description": "",
            "description_tooltip": null,
            "layout": "IPY_MODEL_da9854be287848d69690c620b0ee191a",
            "placeholder": "​",
            "style": "IPY_MODEL_26c825a71dfb403db33b77ce92526db6",
            "value": " 111/111 [00:00&lt;00:00, 7.97kB/s]"
          }
        },
        "80f9acb41535441d82348afe8e9bf714": {
          "model_module": "@jupyter-widgets/base",
          "model_module_version": "1.2.0",
          "model_name": "LayoutModel",
          "state": {
            "_model_module": "@jupyter-widgets/base",
            "_model_module_version": "1.2.0",
            "_model_name": "LayoutModel",
            "_view_count": null,
            "_view_module": "@jupyter-widgets/base",
            "_view_module_version": "1.2.0",
            "_view_name": "LayoutView",
            "align_content": null,
            "align_items": null,
            "align_self": null,
            "border": null,
            "bottom": null,
            "display": null,
            "flex": null,
            "flex_flow": null,
            "grid_area": null,
            "grid_auto_columns": null,
            "grid_auto_flow": null,
            "grid_auto_rows": null,
            "grid_column": null,
            "grid_gap": null,
            "grid_row": null,
            "grid_template_areas": null,
            "grid_template_columns": null,
            "grid_template_rows": null,
            "height": null,
            "justify_content": null,
            "justify_items": null,
            "left": null,
            "margin": null,
            "max_height": null,
            "max_width": null,
            "min_height": null,
            "min_width": null,
            "object_fit": null,
            "object_position": null,
            "order": null,
            "overflow": null,
            "overflow_x": null,
            "overflow_y": null,
            "padding": null,
            "right": null,
            "top": null,
            "visibility": null,
            "width": null
          }
        },
        "88a78ca956b2438faf2bc57b92d619c9": {
          "model_module": "@jupyter-widgets/base",
          "model_module_version": "1.2.0",
          "model_name": "LayoutModel",
          "state": {
            "_model_module": "@jupyter-widgets/base",
            "_model_module_version": "1.2.0",
            "_model_name": "LayoutModel",
            "_view_count": null,
            "_view_module": "@jupyter-widgets/base",
            "_view_module_version": "1.2.0",
            "_view_name": "LayoutView",
            "align_content": null,
            "align_items": null,
            "align_self": null,
            "border": null,
            "bottom": null,
            "display": null,
            "flex": null,
            "flex_flow": null,
            "grid_area": null,
            "grid_auto_columns": null,
            "grid_auto_flow": null,
            "grid_auto_rows": null,
            "grid_column": null,
            "grid_gap": null,
            "grid_row": null,
            "grid_template_areas": null,
            "grid_template_columns": null,
            "grid_template_rows": null,
            "height": null,
            "justify_content": null,
            "justify_items": null,
            "left": null,
            "margin": null,
            "max_height": null,
            "max_width": null,
            "min_height": null,
            "min_width": null,
            "object_fit": null,
            "object_position": null,
            "order": null,
            "overflow": null,
            "overflow_x": null,
            "overflow_y": null,
            "padding": null,
            "right": null,
            "top": null,
            "visibility": null,
            "width": null
          }
        },
        "8e4198832e2d4c8bb45925f9d5e22105": {
          "model_module": "@jupyter-widgets/base",
          "model_module_version": "1.2.0",
          "model_name": "LayoutModel",
          "state": {
            "_model_module": "@jupyter-widgets/base",
            "_model_module_version": "1.2.0",
            "_model_name": "LayoutModel",
            "_view_count": null,
            "_view_module": "@jupyter-widgets/base",
            "_view_module_version": "1.2.0",
            "_view_name": "LayoutView",
            "align_content": null,
            "align_items": null,
            "align_self": null,
            "border": null,
            "bottom": null,
            "display": null,
            "flex": null,
            "flex_flow": null,
            "grid_area": null,
            "grid_auto_columns": null,
            "grid_auto_flow": null,
            "grid_auto_rows": null,
            "grid_column": null,
            "grid_gap": null,
            "grid_row": null,
            "grid_template_areas": null,
            "grid_template_columns": null,
            "grid_template_rows": null,
            "height": null,
            "justify_content": null,
            "justify_items": null,
            "left": null,
            "margin": null,
            "max_height": null,
            "max_width": null,
            "min_height": null,
            "min_width": null,
            "object_fit": null,
            "object_position": null,
            "order": null,
            "overflow": null,
            "overflow_x": null,
            "overflow_y": null,
            "padding": null,
            "right": null,
            "top": null,
            "visibility": null,
            "width": null
          }
        },
        "9100067ba67348789630b1f56172711f": {
          "model_module": "@jupyter-widgets/base",
          "model_module_version": "1.2.0",
          "model_name": "LayoutModel",
          "state": {
            "_model_module": "@jupyter-widgets/base",
            "_model_module_version": "1.2.0",
            "_model_name": "LayoutModel",
            "_view_count": null,
            "_view_module": "@jupyter-widgets/base",
            "_view_module_version": "1.2.0",
            "_view_name": "LayoutView",
            "align_content": null,
            "align_items": null,
            "align_self": null,
            "border": null,
            "bottom": null,
            "display": null,
            "flex": null,
            "flex_flow": null,
            "grid_area": null,
            "grid_auto_columns": null,
            "grid_auto_flow": null,
            "grid_auto_rows": null,
            "grid_column": null,
            "grid_gap": null,
            "grid_row": null,
            "grid_template_areas": null,
            "grid_template_columns": null,
            "grid_template_rows": null,
            "height": null,
            "justify_content": null,
            "justify_items": null,
            "left": null,
            "margin": null,
            "max_height": null,
            "max_width": null,
            "min_height": null,
            "min_width": null,
            "object_fit": null,
            "object_position": null,
            "order": null,
            "overflow": null,
            "overflow_x": null,
            "overflow_y": null,
            "padding": null,
            "right": null,
            "top": null,
            "visibility": null,
            "width": null
          }
        },
        "960011fa422b45909d537d1a31dd14e1": {
          "model_module": "@jupyter-widgets/controls",
          "model_module_version": "1.5.0",
          "model_name": "DescriptionStyleModel",
          "state": {
            "_model_module": "@jupyter-widgets/controls",
            "_model_module_version": "1.5.0",
            "_model_name": "DescriptionStyleModel",
            "_view_count": null,
            "_view_module": "@jupyter-widgets/base",
            "_view_module_version": "1.2.0",
            "_view_name": "StyleView",
            "description_width": ""
          }
        },
        "96601ba0569049c6bed8508ba68bf139": {
          "model_module": "@jupyter-widgets/controls",
          "model_module_version": "1.5.0",
          "model_name": "ProgressStyleModel",
          "state": {
            "_model_module": "@jupyter-widgets/controls",
            "_model_module_version": "1.5.0",
            "_model_name": "ProgressStyleModel",
            "_view_count": null,
            "_view_module": "@jupyter-widgets/base",
            "_view_module_version": "1.2.0",
            "_view_name": "StyleView",
            "bar_color": null,
            "description_width": ""
          }
        },
        "9a3676eb53db4ae49ccd86673b3b4709": {
          "model_module": "@jupyter-widgets/controls",
          "model_module_version": "1.5.0",
          "model_name": "FloatProgressModel",
          "state": {
            "_dom_classes": [],
            "_model_module": "@jupyter-widgets/controls",
            "_model_module_version": "1.5.0",
            "_model_name": "FloatProgressModel",
            "_view_count": null,
            "_view_module": "@jupyter-widgets/controls",
            "_view_module_version": "1.5.0",
            "_view_name": "ProgressView",
            "bar_style": "success",
            "description": "",
            "description_tooltip": null,
            "layout": "IPY_MODEL_5d27c4e4f19a49668a92d3470495868a",
            "max": 4999819336,
            "min": 0,
            "orientation": "horizontal",
            "style": "IPY_MODEL_2f378694419b4fddb3a581808cd675db",
            "value": 4999819336
          }
        },
        "9d887dbefecf42859cec26b1b8148c4c": {
          "model_module": "@jupyter-widgets/controls",
          "model_module_version": "1.5.0",
          "model_name": "HTMLModel",
          "state": {
            "_dom_classes": [],
            "_model_module": "@jupyter-widgets/controls",
            "_model_module_version": "1.5.0",
            "_model_name": "HTMLModel",
            "_view_count": null,
            "_view_module": "@jupyter-widgets/controls",
            "_view_module_version": "1.5.0",
            "_view_name": "HTMLView",
            "description": "",
            "description_tooltip": null,
            "layout": "IPY_MODEL_5eddcd44aa264447ad48382c34f63009",
            "placeholder": "​",
            "style": "IPY_MODEL_e571007442074f6b8f44d852a41614d9",
            "value": " 596/596 [00:00&lt;00:00, 38.9kB/s]"
          }
        },
        "9ff50952df504b73bfdf1b4bd76bc7fe": {
          "model_module": "@jupyter-widgets/controls",
          "model_module_version": "1.5.0",
          "model_name": "HTMLModel",
          "state": {
            "_dom_classes": [],
            "_model_module": "@jupyter-widgets/controls",
            "_model_module_version": "1.5.0",
            "_model_name": "HTMLModel",
            "_view_count": null,
            "_view_module": "@jupyter-widgets/controls",
            "_view_module_version": "1.5.0",
            "_view_name": "HTMLView",
            "description": "",
            "description_tooltip": null,
            "layout": "IPY_MODEL_6a8cd7e6271d412081f9a53b387b5944",
            "placeholder": "​",
            "style": "IPY_MODEL_64c36a279402490bbe126e936765267d",
            "value": "model-00002-of-00003.safetensors: 100%"
          }
        },
        "a0a33e61cb6e4c078435200af152c3d3": {
          "model_module": "@jupyter-widgets/controls",
          "model_module_version": "1.5.0",
          "model_name": "HBoxModel",
          "state": {
            "_dom_classes": [],
            "_model_module": "@jupyter-widgets/controls",
            "_model_module_version": "1.5.0",
            "_model_name": "HBoxModel",
            "_view_count": null,
            "_view_module": "@jupyter-widgets/controls",
            "_view_module_version": "1.5.0",
            "_view_name": "HBoxView",
            "box_style": "",
            "children": [
              "IPY_MODEL_e32076bbab85437fa03b4b06045879f0",
              "IPY_MODEL_604c1b47e79d4f74888d491775fe9c77",
              "IPY_MODEL_1464b42372604a489139ce5c113172f7"
            ],
            "layout": "IPY_MODEL_a466624d8f6348e4bc483b28dbf98e63"
          }
        },
        "a466624d8f6348e4bc483b28dbf98e63": {
          "model_module": "@jupyter-widgets/base",
          "model_module_version": "1.2.0",
          "model_name": "LayoutModel",
          "state": {
            "_model_module": "@jupyter-widgets/base",
            "_model_module_version": "1.2.0",
            "_model_name": "LayoutModel",
            "_view_count": null,
            "_view_module": "@jupyter-widgets/base",
            "_view_module_version": "1.2.0",
            "_view_name": "LayoutView",
            "align_content": null,
            "align_items": null,
            "align_self": null,
            "border": null,
            "bottom": null,
            "display": null,
            "flex": null,
            "flex_flow": null,
            "grid_area": null,
            "grid_auto_columns": null,
            "grid_auto_flow": null,
            "grid_auto_rows": null,
            "grid_column": null,
            "grid_gap": null,
            "grid_row": null,
            "grid_template_areas": null,
            "grid_template_columns": null,
            "grid_template_rows": null,
            "height": null,
            "justify_content": null,
            "justify_items": null,
            "left": null,
            "margin": null,
            "max_height": null,
            "max_width": null,
            "min_height": null,
            "min_width": null,
            "object_fit": null,
            "object_position": null,
            "order": null,
            "overflow": null,
            "overflow_x": null,
            "overflow_y": null,
            "padding": null,
            "right": null,
            "top": null,
            "visibility": null,
            "width": null
          }
        },
        "a5836425c19d43d3ba963ed8a9f8c3d5": {
          "model_module": "@jupyter-widgets/base",
          "model_module_version": "1.2.0",
          "model_name": "LayoutModel",
          "state": {
            "_model_module": "@jupyter-widgets/base",
            "_model_module_version": "1.2.0",
            "_model_name": "LayoutModel",
            "_view_count": null,
            "_view_module": "@jupyter-widgets/base",
            "_view_module_version": "1.2.0",
            "_view_name": "LayoutView",
            "align_content": null,
            "align_items": null,
            "align_self": null,
            "border": null,
            "bottom": null,
            "display": null,
            "flex": null,
            "flex_flow": null,
            "grid_area": null,
            "grid_auto_columns": null,
            "grid_auto_flow": null,
            "grid_auto_rows": null,
            "grid_column": null,
            "grid_gap": null,
            "grid_row": null,
            "grid_template_areas": null,
            "grid_template_columns": null,
            "grid_template_rows": null,
            "height": null,
            "justify_content": null,
            "justify_items": null,
            "left": null,
            "margin": null,
            "max_height": null,
            "max_width": null,
            "min_height": null,
            "min_width": null,
            "object_fit": null,
            "object_position": null,
            "order": null,
            "overflow": null,
            "overflow_x": null,
            "overflow_y": null,
            "padding": null,
            "right": null,
            "top": null,
            "visibility": null,
            "width": null
          }
        },
        "a676298d3d164c9d997b9b14775d213b": {
          "model_module": "@jupyter-widgets/controls",
          "model_module_version": "1.5.0",
          "model_name": "HTMLModel",
          "state": {
            "_dom_classes": [],
            "_model_module": "@jupyter-widgets/controls",
            "_model_module_version": "1.5.0",
            "_model_name": "HTMLModel",
            "_view_count": null,
            "_view_module": "@jupyter-widgets/controls",
            "_view_module_version": "1.5.0",
            "_view_name": "HTMLView",
            "description": "",
            "description_tooltip": null,
            "layout": "IPY_MODEL_aa9372c72cee4fd9bb551ff4add93b0e",
            "placeholder": "​",
            "style": "IPY_MODEL_2800573ba3064cafb35f19493b6028b2",
            "value": "Loading checkpoint shards: 100%"
          }
        },
        "aa9372c72cee4fd9bb551ff4add93b0e": {
          "model_module": "@jupyter-widgets/base",
          "model_module_version": "1.2.0",
          "model_name": "LayoutModel",
          "state": {
            "_model_module": "@jupyter-widgets/base",
            "_model_module_version": "1.2.0",
            "_model_name": "LayoutModel",
            "_view_count": null,
            "_view_module": "@jupyter-widgets/base",
            "_view_module_version": "1.2.0",
            "_view_name": "LayoutView",
            "align_content": null,
            "align_items": null,
            "align_self": null,
            "border": null,
            "bottom": null,
            "display": null,
            "flex": null,
            "flex_flow": null,
            "grid_area": null,
            "grid_auto_columns": null,
            "grid_auto_flow": null,
            "grid_auto_rows": null,
            "grid_column": null,
            "grid_gap": null,
            "grid_row": null,
            "grid_template_areas": null,
            "grid_template_columns": null,
            "grid_template_rows": null,
            "height": null,
            "justify_content": null,
            "justify_items": null,
            "left": null,
            "margin": null,
            "max_height": null,
            "max_width": null,
            "min_height": null,
            "min_width": null,
            "object_fit": null,
            "object_position": null,
            "order": null,
            "overflow": null,
            "overflow_x": null,
            "overflow_y": null,
            "padding": null,
            "right": null,
            "top": null,
            "visibility": null,
            "width": null
          }
        },
        "ab8b49cd02f7475f81a4837e763e15a2": {
          "model_module": "@jupyter-widgets/controls",
          "model_module_version": "1.5.0",
          "model_name": "HTMLModel",
          "state": {
            "_dom_classes": [],
            "_model_module": "@jupyter-widgets/controls",
            "_model_module_version": "1.5.0",
            "_model_name": "HTMLModel",
            "_view_count": null,
            "_view_module": "@jupyter-widgets/controls",
            "_view_module_version": "1.5.0",
            "_view_name": "HTMLView",
            "description": "",
            "description_tooltip": null,
            "layout": "IPY_MODEL_88a78ca956b2438faf2bc57b92d619c9",
            "placeholder": "​",
            "style": "IPY_MODEL_960011fa422b45909d537d1a31dd14e1",
            "value": " 3/3 [04:46&lt;00:00, 80.52s/it]"
          }
        },
        "af095aec645a4c8aaf7e3bfbf88ef26a": {
          "model_module": "@jupyter-widgets/controls",
          "model_module_version": "1.5.0",
          "model_name": "DescriptionStyleModel",
          "state": {
            "_model_module": "@jupyter-widgets/controls",
            "_model_module_version": "1.5.0",
            "_model_name": "DescriptionStyleModel",
            "_view_count": null,
            "_view_module": "@jupyter-widgets/base",
            "_view_module_version": "1.2.0",
            "_view_name": "StyleView",
            "description_width": ""
          }
        },
        "b0666daf809b4bd19bee85b5ed01d0af": {
          "model_module": "@jupyter-widgets/controls",
          "model_module_version": "1.5.0",
          "model_name": "ProgressStyleModel",
          "state": {
            "_model_module": "@jupyter-widgets/controls",
            "_model_module_version": "1.5.0",
            "_model_name": "ProgressStyleModel",
            "_view_count": null,
            "_view_module": "@jupyter-widgets/base",
            "_view_module_version": "1.2.0",
            "_view_name": "StyleView",
            "bar_color": null,
            "description_width": ""
          }
        },
        "b08e6f7e35dc494aa42bd9e48acc1fae": {
          "model_module": "@jupyter-widgets/controls",
          "model_module_version": "1.5.0",
          "model_name": "HTMLModel",
          "state": {
            "_dom_classes": [],
            "_model_module": "@jupyter-widgets/controls",
            "_model_module_version": "1.5.0",
            "_model_name": "HTMLModel",
            "_view_count": null,
            "_view_module": "@jupyter-widgets/controls",
            "_view_module_version": "1.5.0",
            "_view_name": "HTMLView",
            "description": "",
            "description_tooltip": null,
            "layout": "IPY_MODEL_2dd756b2dd884a4cb63a8b073f711b92",
            "placeholder": "​",
            "style": "IPY_MODEL_08e0e9f4f2104b2da8620d08438024e1",
            "value": "model.safetensors.index.json: 100%"
          }
        },
        "b36aeca21cd148e5be4f829013d85cd6": {
          "model_module": "@jupyter-widgets/controls",
          "model_module_version": "1.5.0",
          "model_name": "ProgressStyleModel",
          "state": {
            "_model_module": "@jupyter-widgets/controls",
            "_model_module_version": "1.5.0",
            "_model_name": "ProgressStyleModel",
            "_view_count": null,
            "_view_module": "@jupyter-widgets/base",
            "_view_module_version": "1.2.0",
            "_view_name": "StyleView",
            "bar_color": null,
            "description_width": ""
          }
        },
        "b5c6daba974e439cb4285887de50df21": {
          "model_module": "@jupyter-widgets/base",
          "model_module_version": "1.2.0",
          "model_name": "LayoutModel",
          "state": {
            "_model_module": "@jupyter-widgets/base",
            "_model_module_version": "1.2.0",
            "_model_name": "LayoutModel",
            "_view_count": null,
            "_view_module": "@jupyter-widgets/base",
            "_view_module_version": "1.2.0",
            "_view_name": "LayoutView",
            "align_content": null,
            "align_items": null,
            "align_self": null,
            "border": null,
            "bottom": null,
            "display": null,
            "flex": null,
            "flex_flow": null,
            "grid_area": null,
            "grid_auto_columns": null,
            "grid_auto_flow": null,
            "grid_auto_rows": null,
            "grid_column": null,
            "grid_gap": null,
            "grid_row": null,
            "grid_template_areas": null,
            "grid_template_columns": null,
            "grid_template_rows": null,
            "height": null,
            "justify_content": null,
            "justify_items": null,
            "left": null,
            "margin": null,
            "max_height": null,
            "max_width": null,
            "min_height": null,
            "min_width": null,
            "object_fit": null,
            "object_position": null,
            "order": null,
            "overflow": null,
            "overflow_x": null,
            "overflow_y": null,
            "padding": null,
            "right": null,
            "top": null,
            "visibility": null,
            "width": null
          }
        },
        "b9812cda346c499e9cf98fa6f06638f7": {
          "model_module": "@jupyter-widgets/controls",
          "model_module_version": "1.5.0",
          "model_name": "FloatProgressModel",
          "state": {
            "_dom_classes": [],
            "_model_module": "@jupyter-widgets/controls",
            "_model_module_version": "1.5.0",
            "_model_name": "FloatProgressModel",
            "_view_count": null,
            "_view_module": "@jupyter-widgets/controls",
            "_view_module_version": "1.5.0",
            "_view_name": "ProgressView",
            "bar_style": "success",
            "description": "",
            "description_tooltip": null,
            "layout": "IPY_MODEL_3fe0dc467e3f4b29b1ee185823dc42b2",
            "max": 3,
            "min": 0,
            "orientation": "horizontal",
            "style": "IPY_MODEL_6df1cc53b51f41d084b9e4f69250a108",
            "value": 3
          }
        },
        "bb74419707b644c7a391adcf1eeb05b2": {
          "model_module": "@jupyter-widgets/base",
          "model_module_version": "1.2.0",
          "model_name": "LayoutModel",
          "state": {
            "_model_module": "@jupyter-widgets/base",
            "_model_module_version": "1.2.0",
            "_model_name": "LayoutModel",
            "_view_count": null,
            "_view_module": "@jupyter-widgets/base",
            "_view_module_version": "1.2.0",
            "_view_name": "LayoutView",
            "align_content": null,
            "align_items": null,
            "align_self": null,
            "border": null,
            "bottom": null,
            "display": null,
            "flex": null,
            "flex_flow": null,
            "grid_area": null,
            "grid_auto_columns": null,
            "grid_auto_flow": null,
            "grid_auto_rows": null,
            "grid_column": null,
            "grid_gap": null,
            "grid_row": null,
            "grid_template_areas": null,
            "grid_template_columns": null,
            "grid_template_rows": null,
            "height": null,
            "justify_content": null,
            "justify_items": null,
            "left": null,
            "margin": null,
            "max_height": null,
            "max_width": null,
            "min_height": null,
            "min_width": null,
            "object_fit": null,
            "object_position": null,
            "order": null,
            "overflow": null,
            "overflow_x": null,
            "overflow_y": null,
            "padding": null,
            "right": null,
            "top": null,
            "visibility": null,
            "width": null
          }
        },
        "bd97d93ab04347068eb59baac0a2929d": {
          "model_module": "@jupyter-widgets/controls",
          "model_module_version": "1.5.0",
          "model_name": "ProgressStyleModel",
          "state": {
            "_model_module": "@jupyter-widgets/controls",
            "_model_module_version": "1.5.0",
            "_model_name": "ProgressStyleModel",
            "_view_count": null,
            "_view_module": "@jupyter-widgets/base",
            "_view_module_version": "1.2.0",
            "_view_name": "StyleView",
            "bar_color": null,
            "description_width": ""
          }
        },
        "be343e5a2ea545d080902f7f0ac13af2": {
          "model_module": "@jupyter-widgets/base",
          "model_module_version": "1.2.0",
          "model_name": "LayoutModel",
          "state": {
            "_model_module": "@jupyter-widgets/base",
            "_model_module_version": "1.2.0",
            "_model_name": "LayoutModel",
            "_view_count": null,
            "_view_module": "@jupyter-widgets/base",
            "_view_module_version": "1.2.0",
            "_view_name": "LayoutView",
            "align_content": null,
            "align_items": null,
            "align_self": null,
            "border": null,
            "bottom": null,
            "display": null,
            "flex": null,
            "flex_flow": null,
            "grid_area": null,
            "grid_auto_columns": null,
            "grid_auto_flow": null,
            "grid_auto_rows": null,
            "grid_column": null,
            "grid_gap": null,
            "grid_row": null,
            "grid_template_areas": null,
            "grid_template_columns": null,
            "grid_template_rows": null,
            "height": null,
            "justify_content": null,
            "justify_items": null,
            "left": null,
            "margin": null,
            "max_height": null,
            "max_width": null,
            "min_height": null,
            "min_width": null,
            "object_fit": null,
            "object_position": null,
            "order": null,
            "overflow": null,
            "overflow_x": null,
            "overflow_y": null,
            "padding": null,
            "right": null,
            "top": null,
            "visibility": null,
            "width": null
          }
        },
        "c689aca2da564dc09b8679e412008d57": {
          "model_module": "@jupyter-widgets/controls",
          "model_module_version": "1.5.0",
          "model_name": "DescriptionStyleModel",
          "state": {
            "_model_module": "@jupyter-widgets/controls",
            "_model_module_version": "1.5.0",
            "_model_name": "DescriptionStyleModel",
            "_view_count": null,
            "_view_module": "@jupyter-widgets/base",
            "_view_module_version": "1.2.0",
            "_view_name": "StyleView",
            "description_width": ""
          }
        },
        "da9854be287848d69690c620b0ee191a": {
          "model_module": "@jupyter-widgets/base",
          "model_module_version": "1.2.0",
          "model_name": "LayoutModel",
          "state": {
            "_model_module": "@jupyter-widgets/base",
            "_model_module_version": "1.2.0",
            "_model_name": "LayoutModel",
            "_view_count": null,
            "_view_module": "@jupyter-widgets/base",
            "_view_module_version": "1.2.0",
            "_view_name": "LayoutView",
            "align_content": null,
            "align_items": null,
            "align_self": null,
            "border": null,
            "bottom": null,
            "display": null,
            "flex": null,
            "flex_flow": null,
            "grid_area": null,
            "grid_auto_columns": null,
            "grid_auto_flow": null,
            "grid_auto_rows": null,
            "grid_column": null,
            "grid_gap": null,
            "grid_row": null,
            "grid_template_areas": null,
            "grid_template_columns": null,
            "grid_template_rows": null,
            "height": null,
            "justify_content": null,
            "justify_items": null,
            "left": null,
            "margin": null,
            "max_height": null,
            "max_width": null,
            "min_height": null,
            "min_width": null,
            "object_fit": null,
            "object_position": null,
            "order": null,
            "overflow": null,
            "overflow_x": null,
            "overflow_y": null,
            "padding": null,
            "right": null,
            "top": null,
            "visibility": null,
            "width": null
          }
        },
        "db36c7fbe49f4643bae18e68fd5ec405": {
          "model_module": "@jupyter-widgets/controls",
          "model_module_version": "1.5.0",
          "model_name": "DescriptionStyleModel",
          "state": {
            "_model_module": "@jupyter-widgets/controls",
            "_model_module_version": "1.5.0",
            "_model_name": "DescriptionStyleModel",
            "_view_count": null,
            "_view_module": "@jupyter-widgets/base",
            "_view_module_version": "1.2.0",
            "_view_name": "StyleView",
            "description_width": ""
          }
        },
        "dcb53702e66d464da603e046fa32024a": {
          "model_module": "@jupyter-widgets/base",
          "model_module_version": "1.2.0",
          "model_name": "LayoutModel",
          "state": {
            "_model_module": "@jupyter-widgets/base",
            "_model_module_version": "1.2.0",
            "_model_name": "LayoutModel",
            "_view_count": null,
            "_view_module": "@jupyter-widgets/base",
            "_view_module_version": "1.2.0",
            "_view_name": "LayoutView",
            "align_content": null,
            "align_items": null,
            "align_self": null,
            "border": null,
            "bottom": null,
            "display": null,
            "flex": null,
            "flex_flow": null,
            "grid_area": null,
            "grid_auto_columns": null,
            "grid_auto_flow": null,
            "grid_auto_rows": null,
            "grid_column": null,
            "grid_gap": null,
            "grid_row": null,
            "grid_template_areas": null,
            "grid_template_columns": null,
            "grid_template_rows": null,
            "height": null,
            "justify_content": null,
            "justify_items": null,
            "left": null,
            "margin": null,
            "max_height": null,
            "max_width": null,
            "min_height": null,
            "min_width": null,
            "object_fit": null,
            "object_position": null,
            "order": null,
            "overflow": null,
            "overflow_x": null,
            "overflow_y": null,
            "padding": null,
            "right": null,
            "top": null,
            "visibility": null,
            "width": null
          }
        },
        "ddb38b9da7fd4d4d9ae85fd740eae094": {
          "model_module": "@jupyter-widgets/controls",
          "model_module_version": "1.5.0",
          "model_name": "FloatProgressModel",
          "state": {
            "_dom_classes": [],
            "_model_module": "@jupyter-widgets/controls",
            "_model_module_version": "1.5.0",
            "_model_name": "FloatProgressModel",
            "_view_count": null,
            "_view_module": "@jupyter-widgets/controls",
            "_view_module_version": "1.5.0",
            "_view_name": "ProgressView",
            "bar_style": "success",
            "description": "",
            "description_tooltip": null,
            "layout": "IPY_MODEL_e3d73a57dd4943c991c7554bbc8edbfc",
            "max": 3,
            "min": 0,
            "orientation": "horizontal",
            "style": "IPY_MODEL_b36aeca21cd148e5be4f829013d85cd6",
            "value": 3
          }
        },
        "e10c56d1bcc84f94ba1c523b55c21eca": {
          "model_module": "@jupyter-widgets/controls",
          "model_module_version": "1.5.0",
          "model_name": "DescriptionStyleModel",
          "state": {
            "_model_module": "@jupyter-widgets/controls",
            "_model_module_version": "1.5.0",
            "_model_name": "DescriptionStyleModel",
            "_view_count": null,
            "_view_module": "@jupyter-widgets/base",
            "_view_module_version": "1.2.0",
            "_view_name": "StyleView",
            "description_width": ""
          }
        },
        "e1b220e80bb24f97892a7065b82a5a59": {
          "model_module": "@jupyter-widgets/controls",
          "model_module_version": "1.5.0",
          "model_name": "HTMLModel",
          "state": {
            "_dom_classes": [],
            "_model_module": "@jupyter-widgets/controls",
            "_model_module_version": "1.5.0",
            "_model_name": "HTMLModel",
            "_view_count": null,
            "_view_module": "@jupyter-widgets/controls",
            "_view_module_version": "1.5.0",
            "_view_name": "HTMLView",
            "description": "",
            "description_tooltip": null,
            "layout": "IPY_MODEL_dcb53702e66d464da603e046fa32024a",
            "placeholder": "​",
            "style": "IPY_MODEL_e10c56d1bcc84f94ba1c523b55c21eca",
            "value": "config.json: 100%"
          }
        },
        "e224001379df40f3bd0b1f3b02c66af4": {
          "model_module": "@jupyter-widgets/base",
          "model_module_version": "1.2.0",
          "model_name": "LayoutModel",
          "state": {
            "_model_module": "@jupyter-widgets/base",
            "_model_module_version": "1.2.0",
            "_model_name": "LayoutModel",
            "_view_count": null,
            "_view_module": "@jupyter-widgets/base",
            "_view_module_version": "1.2.0",
            "_view_name": "LayoutView",
            "align_content": null,
            "align_items": null,
            "align_self": null,
            "border": null,
            "bottom": null,
            "display": null,
            "flex": null,
            "flex_flow": null,
            "grid_area": null,
            "grid_auto_columns": null,
            "grid_auto_flow": null,
            "grid_auto_rows": null,
            "grid_column": null,
            "grid_gap": null,
            "grid_row": null,
            "grid_template_areas": null,
            "grid_template_columns": null,
            "grid_template_rows": null,
            "height": null,
            "justify_content": null,
            "justify_items": null,
            "left": null,
            "margin": null,
            "max_height": null,
            "max_width": null,
            "min_height": null,
            "min_width": null,
            "object_fit": null,
            "object_position": null,
            "order": null,
            "overflow": null,
            "overflow_x": null,
            "overflow_y": null,
            "padding": null,
            "right": null,
            "top": null,
            "visibility": null,
            "width": null
          }
        },
        "e32076bbab85437fa03b4b06045879f0": {
          "model_module": "@jupyter-widgets/controls",
          "model_module_version": "1.5.0",
          "model_name": "HTMLModel",
          "state": {
            "_dom_classes": [],
            "_model_module": "@jupyter-widgets/controls",
            "_model_module_version": "1.5.0",
            "_model_name": "HTMLModel",
            "_view_count": null,
            "_view_module": "@jupyter-widgets/controls",
            "_view_module_version": "1.5.0",
            "_view_name": "HTMLView",
            "description": "",
            "description_tooltip": null,
            "layout": "IPY_MODEL_e224001379df40f3bd0b1f3b02c66af4",
            "placeholder": "​",
            "style": "IPY_MODEL_ef808f5824634fcebee26b1de9541e8f",
            "value": "model-00003-of-00003.safetensors: 100%"
          }
        },
        "e3466a26509d4ab6b9d6e49e13be674a": {
          "model_module": "@jupyter-widgets/controls",
          "model_module_version": "1.5.0",
          "model_name": "HTMLModel",
          "state": {
            "_dom_classes": [],
            "_model_module": "@jupyter-widgets/controls",
            "_model_module_version": "1.5.0",
            "_model_name": "HTMLModel",
            "_view_count": null,
            "_view_module": "@jupyter-widgets/controls",
            "_view_module_version": "1.5.0",
            "_view_name": "HTMLView",
            "description": "",
            "description_tooltip": null,
            "layout": "IPY_MODEL_a5836425c19d43d3ba963ed8a9f8c3d5",
            "placeholder": "​",
            "style": "IPY_MODEL_54a43fe4b7e74014955599e8b4cd42b4",
            "value": " 5.00G/5.00G [01:31&lt;00:00, 181MB/s]"
          }
        },
        "e3d73a57dd4943c991c7554bbc8edbfc": {
          "model_module": "@jupyter-widgets/base",
          "model_module_version": "1.2.0",
          "model_name": "LayoutModel",
          "state": {
            "_model_module": "@jupyter-widgets/base",
            "_model_module_version": "1.2.0",
            "_model_name": "LayoutModel",
            "_view_count": null,
            "_view_module": "@jupyter-widgets/base",
            "_view_module_version": "1.2.0",
            "_view_name": "LayoutView",
            "align_content": null,
            "align_items": null,
            "align_self": null,
            "border": null,
            "bottom": null,
            "display": null,
            "flex": null,
            "flex_flow": null,
            "grid_area": null,
            "grid_auto_columns": null,
            "grid_auto_flow": null,
            "grid_auto_rows": null,
            "grid_column": null,
            "grid_gap": null,
            "grid_row": null,
            "grid_template_areas": null,
            "grid_template_columns": null,
            "grid_template_rows": null,
            "height": null,
            "justify_content": null,
            "justify_items": null,
            "left": null,
            "margin": null,
            "max_height": null,
            "max_width": null,
            "min_height": null,
            "min_width": null,
            "object_fit": null,
            "object_position": null,
            "order": null,
            "overflow": null,
            "overflow_x": null,
            "overflow_y": null,
            "padding": null,
            "right": null,
            "top": null,
            "visibility": null,
            "width": null
          }
        },
        "e3dfcf8c8d1c4cccbe4d27db239b5a19": {
          "model_module": "@jupyter-widgets/base",
          "model_module_version": "1.2.0",
          "model_name": "LayoutModel",
          "state": {
            "_model_module": "@jupyter-widgets/base",
            "_model_module_version": "1.2.0",
            "_model_name": "LayoutModel",
            "_view_count": null,
            "_view_module": "@jupyter-widgets/base",
            "_view_module_version": "1.2.0",
            "_view_name": "LayoutView",
            "align_content": null,
            "align_items": null,
            "align_self": null,
            "border": null,
            "bottom": null,
            "display": null,
            "flex": null,
            "flex_flow": null,
            "grid_area": null,
            "grid_auto_columns": null,
            "grid_auto_flow": null,
            "grid_auto_rows": null,
            "grid_column": null,
            "grid_gap": null,
            "grid_row": null,
            "grid_template_areas": null,
            "grid_template_columns": null,
            "grid_template_rows": null,
            "height": null,
            "justify_content": null,
            "justify_items": null,
            "left": null,
            "margin": null,
            "max_height": null,
            "max_width": null,
            "min_height": null,
            "min_width": null,
            "object_fit": null,
            "object_position": null,
            "order": null,
            "overflow": null,
            "overflow_x": null,
            "overflow_y": null,
            "padding": null,
            "right": null,
            "top": null,
            "visibility": null,
            "width": null
          }
        },
        "e53a983d140746a0a15c5e2795eb07ec": {
          "model_module": "@jupyter-widgets/controls",
          "model_module_version": "1.5.0",
          "model_name": "ProgressStyleModel",
          "state": {
            "_model_module": "@jupyter-widgets/controls",
            "_model_module_version": "1.5.0",
            "_model_name": "ProgressStyleModel",
            "_view_count": null,
            "_view_module": "@jupyter-widgets/base",
            "_view_module_version": "1.2.0",
            "_view_name": "StyleView",
            "bar_color": null,
            "description_width": ""
          }
        },
        "e571007442074f6b8f44d852a41614d9": {
          "model_module": "@jupyter-widgets/controls",
          "model_module_version": "1.5.0",
          "model_name": "DescriptionStyleModel",
          "state": {
            "_model_module": "@jupyter-widgets/controls",
            "_model_module_version": "1.5.0",
            "_model_name": "DescriptionStyleModel",
            "_view_count": null,
            "_view_module": "@jupyter-widgets/base",
            "_view_module_version": "1.2.0",
            "_view_name": "StyleView",
            "description_width": ""
          }
        },
        "eaa1eb6b05534fd6bda50dca4ca1b537": {
          "model_module": "@jupyter-widgets/controls",
          "model_module_version": "1.5.0",
          "model_name": "HTMLModel",
          "state": {
            "_dom_classes": [],
            "_model_module": "@jupyter-widgets/controls",
            "_model_module_version": "1.5.0",
            "_model_name": "HTMLModel",
            "_view_count": null,
            "_view_module": "@jupyter-widgets/controls",
            "_view_module_version": "1.5.0",
            "_view_name": "HTMLView",
            "description": "",
            "description_tooltip": null,
            "layout": "IPY_MODEL_1b244ca1399045cab5901fff78fe1252",
            "placeholder": "​",
            "style": "IPY_MODEL_db36c7fbe49f4643bae18e68fd5ec405",
            "value": " 4.94G/4.94G [02:42&lt;00:00, 9.13MB/s]"
          }
        },
        "ef808f5824634fcebee26b1de9541e8f": {
          "model_module": "@jupyter-widgets/controls",
          "model_module_version": "1.5.0",
          "model_name": "DescriptionStyleModel",
          "state": {
            "_model_module": "@jupyter-widgets/controls",
            "_model_module_version": "1.5.0",
            "_model_name": "DescriptionStyleModel",
            "_view_count": null,
            "_view_module": "@jupyter-widgets/base",
            "_view_module_version": "1.2.0",
            "_view_name": "StyleView",
            "description_width": ""
          }
        },
        "f1772ebfd6754384a9a5f03b7550a1cc": {
          "model_module": "@jupyter-widgets/controls",
          "model_module_version": "1.5.0",
          "model_name": "ProgressStyleModel",
          "state": {
            "_model_module": "@jupyter-widgets/controls",
            "_model_module_version": "1.5.0",
            "_model_name": "ProgressStyleModel",
            "_view_count": null,
            "_view_module": "@jupyter-widgets/base",
            "_view_module_version": "1.2.0",
            "_view_name": "StyleView",
            "bar_color": null,
            "description_width": ""
          }
        },
        "f34070f934a94c03bba0bcc1b752f57a": {
          "model_module": "@jupyter-widgets/base",
          "model_module_version": "1.2.0",
          "model_name": "LayoutModel",
          "state": {
            "_model_module": "@jupyter-widgets/base",
            "_model_module_version": "1.2.0",
            "_model_name": "LayoutModel",
            "_view_count": null,
            "_view_module": "@jupyter-widgets/base",
            "_view_module_version": "1.2.0",
            "_view_name": "LayoutView",
            "align_content": null,
            "align_items": null,
            "align_self": null,
            "border": null,
            "bottom": null,
            "display": null,
            "flex": null,
            "flex_flow": null,
            "grid_area": null,
            "grid_auto_columns": null,
            "grid_auto_flow": null,
            "grid_auto_rows": null,
            "grid_column": null,
            "grid_gap": null,
            "grid_row": null,
            "grid_template_areas": null,
            "grid_template_columns": null,
            "grid_template_rows": null,
            "height": null,
            "justify_content": null,
            "justify_items": null,
            "left": null,
            "margin": null,
            "max_height": null,
            "max_width": null,
            "min_height": null,
            "min_width": null,
            "object_fit": null,
            "object_position": null,
            "order": null,
            "overflow": null,
            "overflow_x": null,
            "overflow_y": null,
            "padding": null,
            "right": null,
            "top": null,
            "visibility": null,
            "width": null
          }
        },
        "fe7e7c6e66f0486f966be14aaa9d0fbe": {
          "model_module": "@jupyter-widgets/controls",
          "model_module_version": "1.5.0",
          "model_name": "HTMLModel",
          "state": {
            "_dom_classes": [],
            "_model_module": "@jupyter-widgets/controls",
            "_model_module_version": "1.5.0",
            "_model_name": "HTMLModel",
            "_view_count": null,
            "_view_module": "@jupyter-widgets/controls",
            "_view_module_version": "1.5.0",
            "_view_name": "HTMLView",
            "description": "",
            "description_tooltip": null,
            "layout": "IPY_MODEL_80f9acb41535441d82348afe8e9bf714",
            "placeholder": "​",
            "style": "IPY_MODEL_c689aca2da564dc09b8679e412008d57",
            "value": "Downloading shards: 100%"
          }
        }
      }
    }
  },
  "nbformat": 4,
  "nbformat_minor": 0
}